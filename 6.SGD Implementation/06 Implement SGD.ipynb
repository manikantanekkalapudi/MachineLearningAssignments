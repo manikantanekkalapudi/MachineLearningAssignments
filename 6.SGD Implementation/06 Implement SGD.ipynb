{
 "cells": [
  {
   "cell_type": "markdown",
   "metadata": {},
   "source": [
    "## __Mini-Batch SGD implementation on Boston Housing dataset__"
   ]
  },
  {
   "cell_type": "markdown",
   "metadata": {},
   "source": [
    "#### [1.1] Import Statements"
   ]
  },
  {
   "cell_type": "code",
   "execution_count": 868,
   "metadata": {
    "colab": {},
    "colab_type": "code",
    "id": "REYPoTJ1Af7u"
   },
   "outputs": [],
   "source": [
    "import warnings\n",
    "warnings.filterwarnings(\"ignore\")\n",
    "from sklearn.datasets import load_boston\n",
    "from random import seed\n",
    "from random import randrange\n",
    "from csv import reader\n",
    "from math import sqrt\n",
    "from math import pow\n",
    "from sklearn import preprocessing\n",
    "import pandas as pd\n",
    "import numpy as np\n",
    "import matplotlib.pyplot as plt\n",
    "from prettytable import PrettyTable\n",
    "from sklearn.linear_model import SGDRegressor\n",
    "from sklearn import preprocessing\n",
    "from sklearn.metrics import mean_squared_error\n",
    "import random\n",
    "from sklearn.preprocessing import StandardScaler\n",
    "from sklearn.model_selection import train_test_split"
   ]
  },
  {
   "cell_type": "markdown",
   "metadata": {},
   "source": [
    "#### [1.2] Load Dataset"
   ]
  },
  {
   "cell_type": "code",
   "execution_count": 869,
   "metadata": {
    "colab": {},
    "colab_type": "code",
    "id": "NTQ2iH-kAwbo"
   },
   "outputs": [],
   "source": [
    "X = load_boston().data\n",
    "Y = load_boston().target"
   ]
  },
  {
   "cell_type": "markdown",
   "metadata": {},
   "source": [
    "#### [2.1] Train Test Split"
   ]
  },
  {
   "cell_type": "code",
   "execution_count": 870,
   "metadata": {},
   "outputs": [],
   "source": [
    "X_train, X_test, y_train, y_test = train_test_split(X, Y, test_size=0.3, random_state=42)\n",
    "scaler = preprocessing.StandardScaler().fit(X_train)\n",
    "X_train = scaler.transform(X_train)\n",
    "X_test = scaler.transform(X_test)"
   ]
  },
  {
   "cell_type": "markdown",
   "metadata": {},
   "source": [
    "#### [3.1] Applying Mini-Batch SGD"
   ]
  },
  {
   "cell_type": "code",
   "execution_count": 871,
   "metadata": {},
   "outputs": [],
   "source": [
    "def plott(Y_samples, y_pred, title):\n",
    "    plt.scatter(Y_samples, y_pred)\n",
    "    plt.xlabel('Y sample')\n",
    "    plt.ylabel('Y pred')\n",
    "    plt.title(title)"
   ]
  },
  {
   "cell_type": "code",
   "execution_count": 872,
   "metadata": {},
   "outputs": [],
   "source": [
    "#Source: https://stackoverflow.com/questions/15923826/random-row-selection-in-pandas-dataframe\n",
    "# https://stackoverflow.com/questions/17260109/sample-two-pandas-dataframes-the-same-way\n",
    "\n",
    "def random_sampling(X, Y, n_samples):\n",
    "    X = pd.DataFrame(X)\n",
    "    X_samples = X.sample(n=n_samples)\n",
    "    Y_samples = Y[X_samples.index]\n",
    "    Y_samples = pd.DataFrame(Y_samples)\n",
    "    return X_samples, Y_samples"
   ]
  },
  {
   "cell_type": "code",
   "execution_count": 873,
   "metadata": {},
   "outputs": [],
   "source": [
    "#Source: https://machinelearningmastery.com/implement-linear-regression-stochastic-gradient-descent-scratch-python/\n",
    "# https://stackoverflow.com/questions/50328545/stochastic-gradient-descent-for-linear-regression-on-partial-derivatives\n",
    "\n",
    "def stochastic_gradient_descent(X_data, y_data, epochs, n_samples, learning_rate_given):\n",
    "    w_0 = np.random.normal(0,1, 13)\n",
    "    eta0 = 0.01\n",
    "    power_t = 0.5\n",
    "    t = 1\n",
    "    b_0 = np.random.rand()\n",
    "    for epoch in range(epochs):\n",
    "        if epoch == 0:\n",
    "            w_i = w_0\n",
    "            b_i = b_0\n",
    "        else:\n",
    "            w_i = w_latest\n",
    "            b_i = b_latest\n",
    "        \n",
    "        #sampling data\n",
    "        X_samples, Y_samples = random_sampling(X_data, y_data, n_samples)\n",
    "        X_samples = X_samples.as_matrix()\n",
    "        Y_samples = Y_samples.as_matrix()\n",
    "        \n",
    "        if learning_rate_given == 'constant':\n",
    "            eta = eta0\n",
    "        elif learning_rate_given == 'invscaling':\n",
    "            if epoch == 0:\n",
    "                eta = eta0\n",
    "            else:\n",
    "                t += 1\n",
    "                eta = eta0 / (t**power_t)\n",
    "       \n",
    "        # Initializing derivatives to zero\n",
    "        m_derivative = np.zeros(13)\n",
    "        b_derivative = 0\n",
    "        \n",
    "        for X_sample, Y_sample in zip(X_samples, Y_samples):\n",
    "            # m_derivative = -2*x_i(y_i - (w_T*x_i + b_i))\n",
    "            # b_derivative = -2*(y_i - (w_T*x_i + b_i))\n",
    "            y_hat = np.dot(w_i.T, X_sample) + b_i\n",
    "            error = Y_sample - y_hat\n",
    "            m_derivative += -(2/n_samples) * X_sample * error\n",
    "            b_derivative += -(2/n_samples) * error\n",
    "            \n",
    "        w_latest = m_derivative * eta\n",
    "        b_latest = b_derivative * eta\n",
    "        w_latest = w_i - w_latest\n",
    "        b_latest = b_i - b_latest\n",
    "    y_pred = []\n",
    "    for X_sample in X_samples:\n",
    "        y_pred.append(np.dot(w_latest.T, X_sample) + b_latest)\n",
    "    train_error = mean_squared_error(Y_samples, np.array(y_pred)) \n",
    "    return X_samples, Y_samples, y_pred, w_latest, b_latest, train_error"
   ]
  },
  {
   "cell_type": "code",
   "execution_count": 874,
   "metadata": {},
   "outputs": [],
   "source": [
    "def mean_sq_error(X_test, y_test, w_latest, b_latest, plot_title):\n",
    "    \n",
    "    X_test = pd.DataFrame(X_test)\n",
    "    y_test = pd.DataFrame(y_test)\n",
    "    \n",
    "    X_test = X_test.as_matrix()\n",
    "    y_test = y_test.as_matrix()\n",
    "    \n",
    "    y_pred = []\n",
    "    for item in X_test:\n",
    "        y_pred.append(np.dot(w_latest.T, item)+b_latest)\n",
    "    \n",
    "    plott(y_test, y_pred, plot_title)\n",
    "    \n",
    "    return mean_squared_error(y_test, y_pred)"
   ]
  },
  {
   "cell_type": "code",
   "execution_count": 875,
   "metadata": {},
   "outputs": [],
   "source": [
    "def sklearn_SGD(X_train, y_train, max_iter_given, learning_rate_given, eta_given):\n",
    "    if learning_rate_given == 'constant':\n",
    "        clf = SGDRegressor(max_iter = max_iter_given, learning_rate= learning_rate_given, eta0=eta_given)\n",
    "    elif learning_rate_given == 'invscaling':\n",
    "        clf = SGDRegressor(max_iter = max_iter_given, learning_rate= learning_rate_given, eta0=eta_given, power_t=0.25)\n",
    "    clf.fit(X_train, y_train)\n",
    "    mse = mean_squared_error(y_train, clf.predict(X_train))\n",
    "    return clf, mse"
   ]
  },
  {
   "cell_type": "markdown",
   "metadata": {},
   "source": [
    "#### [3.2] Applying Mini-Batch SGD with fixed learning rate"
   ]
  },
  {
   "cell_type": "markdown",
   "metadata": {},
   "source": [
    "itr = 100 "
   ]
  },
  {
   "cell_type": "code",
   "execution_count": 876,
   "metadata": {},
   "outputs": [
    {
     "name": "stdout",
     "output_type": "stream",
     "text": [
      "48.92878984555921\n"
     ]
    }
   ],
   "source": [
    "# Using implemented Mini-Batch SGD with constant learning rate\n",
    "X_samples, Y_samples, y_pred, w_latest1, b_latest1, train_error1 = stochastic_gradient_descent(X_train, y_train, 100, 15, 'constant')\n",
    "print(train_error1)"
   ]
  },
  {
   "cell_type": "code",
   "execution_count": 877,
   "metadata": {},
   "outputs": [
    {
     "data": {
      "image/png": "[encoded data removed]",
      "text/plain": [
       "<Figure size 432x288 with 1 Axes>"
      ]
     },
     "metadata": {
      "needs_background": "light"
     },
     "output_type": "display_data"
    }
   ],
   "source": [
    "plott(Y_samples, y_pred, 'SGD Implemented')"
   ]
  },
  {
   "cell_type": "code",
   "execution_count": 878,
   "metadata": {},
   "outputs": [
    {
     "name": "stdout",
     "output_type": "stream",
     "text": [
      "36.732583474085736\n"
     ]
    },
    {
     "data": {
      "image/png": "[encoded data removed]",
      "text/plain": [
       "<Figure size 432x288 with 1 Axes>"
      ]
     },
     "metadata": {
      "needs_background": "light"
     },
     "output_type": "display_data"
    }
   ],
   "source": [
    "test_error1 = mean_sq_error(X_test, y_test, w_latest1, b_latest1, 'SGD Implemented')\n",
    "print(test_error1)"
   ]
  },
  {
   "cell_type": "code",
   "execution_count": 879,
   "metadata": {},
   "outputs": [
    {
     "data": {
      "text/plain": [
       "25.44650397100788"
      ]
     },
     "execution_count": 879,
     "metadata": {},
     "output_type": "execute_result"
    }
   ],
   "source": [
    "# Using Sklearn\n",
    "clf1, train_mse1 = sklearn_SGD(X_train, y_train, 100, 'constant', 0.01)\n",
    "test_mse1 = mean_squared_error(y_test, clf1.predict(X_test))\n",
    "train_mse1"
   ]
  },
  {
   "cell_type": "markdown",
   "metadata": {},
   "source": [
    "itr = 1000 "
   ]
  },
  {
   "cell_type": "code",
   "execution_count": 880,
   "metadata": {},
   "outputs": [
    {
     "name": "stdout",
     "output_type": "stream",
     "text": [
      "26.606888825077267\n"
     ]
    }
   ],
   "source": [
    "X_samples, Y_samples, y_pred, w_latest2, b_latest2, train_error2  = stochastic_gradient_descent(X_train, y_train, 1000, 15, 'constant')\n",
    "print(train_error2)"
   ]
  },
  {
   "cell_type": "code",
   "execution_count": 881,
   "metadata": {},
   "outputs": [
    {
     "data": {
      "image/png": "[encoded data removed]",
      "text/plain": [
       "<Figure size 432x288 with 1 Axes>"
      ]
     },
     "metadata": {
      "needs_background": "light"
     },
     "output_type": "display_data"
    }
   ],
   "source": [
    "plott(Y_samples, y_pred, 'SGD Implemented')"
   ]
  },
  {
   "cell_type": "code",
   "execution_count": 882,
   "metadata": {},
   "outputs": [
    {
     "name": "stdout",
     "output_type": "stream",
     "text": [
      "22.161182808502716\n"
     ]
    },
    {
     "data": {
      "image/png": "[encoded data removed]",
      "text/plain": [
       "<Figure size 432x288 with 1 Axes>"
      ]
     },
     "metadata": {
      "needs_background": "light"
     },
     "output_type": "display_data"
    }
   ],
   "source": [
    "test_error2 = mean_sq_error(X_test, y_test, w_latest2, b_latest2, 'SGD Implemented')\n",
    "print(test_error2)"
   ]
  },
  {
   "cell_type": "code",
   "execution_count": 883,
   "metadata": {},
   "outputs": [
    {
     "data": {
      "text/plain": [
       "24.546898911592436"
      ]
     },
     "execution_count": 883,
     "metadata": {},
     "output_type": "execute_result"
    }
   ],
   "source": [
    "clf2, train_mse2 = sklearn_SGD(X_train, y_train, 1000, 'constant', 0.01)\n",
    "test_mse2 = mean_squared_error(y_test,clf2.predict(X_test))\n",
    "train_mse2"
   ]
  },
  {
   "cell_type": "markdown",
   "metadata": {},
   "source": [
    "itr = 5000"
   ]
  },
  {
   "cell_type": "code",
   "execution_count": 884,
   "metadata": {},
   "outputs": [
    {
     "name": "stdout",
     "output_type": "stream",
     "text": [
      "22.69599928570044\n"
     ]
    }
   ],
   "source": [
    "X_samples, Y_samples, y_pred, w_latest3, b_latest3, train_error3  = stochastic_gradient_descent(X_train, y_train, 5000, 15, 'constant')\n",
    "print(train_error3)"
   ]
  },
  {
   "cell_type": "code",
   "execution_count": 885,
   "metadata": {},
   "outputs": [
    {
     "data": {
      "image/png": "[encoded data removed]",
      "text/plain": [
       "<Figure size 432x288 with 1 Axes>"
      ]
     },
     "metadata": {
      "needs_background": "light"
     },
     "output_type": "display_data"
    }
   ],
   "source": [
    "plott(Y_samples, y_pred, 'SGD Implemented')"
   ]
  },
  {
   "cell_type": "code",
   "execution_count": 886,
   "metadata": {},
   "outputs": [
    {
     "name": "stdout",
     "output_type": "stream",
     "text": [
      "21.264608591302853\n"
     ]
    },
    {
     "data": {
      "image/png": "[encoded data removed]",
      "text/plain": [
       "<Figure size 432x288 with 1 Axes>"
      ]
     },
     "metadata": {
      "needs_background": "light"
     },
     "output_type": "display_data"
    }
   ],
   "source": [
    "test_error3 = mean_sq_error(X_test, y_test, w_latest3, b_latest3, 'SGD Implemented')\n",
    "print(test_error3)"
   ]
  },
  {
   "cell_type": "code",
   "execution_count": 887,
   "metadata": {},
   "outputs": [
    {
     "data": {
      "text/plain": [
       "22.920499619484392"
      ]
     },
     "execution_count": 887,
     "metadata": {},
     "output_type": "execute_result"
    }
   ],
   "source": [
    "clf3, train_mse3= sklearn_SGD(X_train, y_train, 5000, 'constant', 0.01)\n",
    "test_mse3 = mean_squared_error(y_test,clf1.predict(X_test))\n",
    "train_mse3"
   ]
  },
  {
   "cell_type": "markdown",
   "metadata": {},
   "source": [
    "itr = 10000"
   ]
  },
  {
   "cell_type": "code",
   "execution_count": 888,
   "metadata": {},
   "outputs": [
    {
     "name": "stdout",
     "output_type": "stream",
     "text": [
      "25.75845902947859\n"
     ]
    }
   ],
   "source": [
    "X_samples, Y_samples, y_pred, w_latest4, b_latest4, train_error4 = stochastic_gradient_descent(X_train, y_train, 10000, 15, 'constant')\n",
    "print(train_error4)"
   ]
  },
  {
   "cell_type": "code",
   "execution_count": 889,
   "metadata": {},
   "outputs": [
    {
     "data": {
      "image/png": "[encoded data removed]",
      "text/plain": [
       "<Figure size 432x288 with 1 Axes>"
      ]
     },
     "metadata": {
      "needs_background": "light"
     },
     "output_type": "display_data"
    }
   ],
   "source": [
    "plott(Y_samples, y_pred, 'SGD Implemented')"
   ]
  },
  {
   "cell_type": "code",
   "execution_count": 890,
   "metadata": {},
   "outputs": [
    {
     "name": "stdout",
     "output_type": "stream",
     "text": [
      "21.324201420092944\n"
     ]
    },
    {
     "data": {
      "image/png": "[encoded data removed]",
      "text/plain": [
       "<Figure size 432x288 with 1 Axes>"
      ]
     },
     "metadata": {
      "needs_background": "light"
     },
     "output_type": "display_data"
    }
   ],
   "source": [
    "test_error4 = mean_sq_error(X_test, y_test, w_latest4, b_latest4, 'SGD Implemented')\n",
    "print(test_error4)"
   ]
  },
  {
   "cell_type": "code",
   "execution_count": 891,
   "metadata": {},
   "outputs": [
    {
     "data": {
      "text/plain": [
       "28.179224200228315"
      ]
     },
     "execution_count": 891,
     "metadata": {},
     "output_type": "execute_result"
    }
   ],
   "source": [
    "clf4, train_mse4 = sklearn_SGD(X_train, y_train, 10000, 'constant', 0.01)\n",
    "test_mse4 = mean_squared_error(y_test,clf1.predict(X_test))\n",
    "train_mse4"
   ]
  },
  {
   "cell_type": "markdown",
   "metadata": {},
   "source": [
    "#### [3.3] Applying Mini-Batch SGD With Constant Inverse Scaling Learning Rate"
   ]
  },
  {
   "cell_type": "markdown",
   "metadata": {},
   "source": [
    "itr = 100"
   ]
  },
  {
   "cell_type": "code",
   "execution_count": 892,
   "metadata": {},
   "outputs": [
    {
     "data": {
      "text/plain": [
       "206.6501596572818"
      ]
     },
     "execution_count": 892,
     "metadata": {},
     "output_type": "execute_result"
    }
   ],
   "source": [
    "X_samples, Y_samples, y_pred, w_latest5, b_latest5, train_error5 = stochastic_gradient_descent(X_train, y_train, 100, 15, 'invscaling')\n",
    "train_error5"
   ]
  },
  {
   "cell_type": "code",
   "execution_count": 893,
   "metadata": {},
   "outputs": [
    {
     "data": {
      "image/png": "[encoded data removed]",
      "text/plain": [
       "<Figure size 432x288 with 1 Axes>"
      ]
     },
     "metadata": {
      "needs_background": "light"
     },
     "output_type": "display_data"
    }
   ],
   "source": [
    "plott(Y_samples, y_pred, 'SGD Implemented')"
   ]
  },
  {
   "cell_type": "code",
   "execution_count": 894,
   "metadata": {},
   "outputs": [
    {
     "data": {
      "image/png": "[encoded data removed]",
      "text/plain": [
       "<Figure size 432x288 with 1 Axes>"
      ]
     },
     "metadata": {
      "needs_background": "light"
     },
     "output_type": "display_data"
    }
   ],
   "source": [
    "test_error5 = mean_sq_error(X_test, y_test, w_latest5, b_latest5, 'SGD Implemented')"
   ]
  },
  {
   "cell_type": "code",
   "execution_count": 895,
   "metadata": {},
   "outputs": [
    {
     "data": {
      "text/plain": [
       "22.60830921541977"
      ]
     },
     "execution_count": 895,
     "metadata": {},
     "output_type": "execute_result"
    }
   ],
   "source": [
    "# Using Sklearn\n",
    "clf1, train_mse5 = sklearn_SGD(X_train, y_train, 100, 'invscaling', 0.01)\n",
    "test_mse5 = mean_squared_error(y_test,clf1.predict(X_test))\n",
    "train_mse5"
   ]
  },
  {
   "cell_type": "markdown",
   "metadata": {},
   "source": [
    "itr = 1000"
   ]
  },
  {
   "cell_type": "code",
   "execution_count": 896,
   "metadata": {},
   "outputs": [
    {
     "data": {
      "text/plain": [
       "48.2860956123789"
      ]
     },
     "execution_count": 896,
     "metadata": {},
     "output_type": "execute_result"
    }
   ],
   "source": [
    "X_samples, Y_samples, y_pred, w_latest6, b_latest6, train_error6 = stochastic_gradient_descent(X_train, y_train, 1000, 15, 'invscaling')\n",
    "train_error6"
   ]
  },
  {
   "cell_type": "code",
   "execution_count": 897,
   "metadata": {},
   "outputs": [
    {
     "data": {
      "image/png": "[encoded data removed]",
      "text/plain": [
       "<Figure size 432x288 with 1 Axes>"
      ]
     },
     "metadata": {
      "needs_background": "light"
     },
     "output_type": "display_data"
    }
   ],
   "source": [
    "plott(Y_samples, y_pred, 'SGD Implemented')"
   ]
  },
  {
   "cell_type": "code",
   "execution_count": 898,
   "metadata": {},
   "outputs": [
    {
     "data": {
      "image/png": "[encoded data removed]",
      "text/plain": [
       "<Figure size 432x288 with 1 Axes>"
      ]
     },
     "metadata": {
      "needs_background": "light"
     },
     "output_type": "display_data"
    }
   ],
   "source": [
    "test_error6 = mean_sq_error(X_test, y_test, w_latest6, b_latest6, 'SGD Implemented')"
   ]
  },
  {
   "cell_type": "code",
   "execution_count": 899,
   "metadata": {},
   "outputs": [
    {
     "data": {
      "text/plain": [
       "22.55418955713128"
      ]
     },
     "execution_count": 899,
     "metadata": {},
     "output_type": "execute_result"
    }
   ],
   "source": [
    "# Using Sklearn\n",
    "clf1, train_mse6 = sklearn_SGD(X_train, y_train, 1000, 'invscaling', 0.01)\n",
    "test_mse6 = mean_squared_error(y_test,clf1.predict(X_test))\n",
    "train_mse6"
   ]
  },
  {
   "cell_type": "markdown",
   "metadata": {},
   "source": [
    "itr = 5000"
   ]
  },
  {
   "cell_type": "code",
   "execution_count": 900,
   "metadata": {},
   "outputs": [
    {
     "data": {
      "text/plain": [
       "14.961183281522397"
      ]
     },
     "execution_count": 900,
     "metadata": {},
     "output_type": "execute_result"
    }
   ],
   "source": [
    "X_samples, Y_samples, y_pred, w_latest7, b_latest7, train_error7 = stochastic_gradient_descent(X_train, y_train, 5000, 15, 'invscaling')\n",
    "train_error7"
   ]
  },
  {
   "cell_type": "code",
   "execution_count": 901,
   "metadata": {},
   "outputs": [
    {
     "data": {
      "image/png": "[encoded data removed]",
      "text/plain": [
       "<Figure size 432x288 with 1 Axes>"
      ]
     },
     "metadata": {
      "needs_background": "light"
     },
     "output_type": "display_data"
    }
   ],
   "source": [
    "plott(Y_samples, y_pred, 'SGD Implemented')"
   ]
  },
  {
   "cell_type": "code",
   "execution_count": 902,
   "metadata": {},
   "outputs": [
    {
     "data": {
      "image/png": "[encoded data removed]",
      "text/plain": [
       "<Figure size 432x288 with 1 Axes>"
      ]
     },
     "metadata": {
      "needs_background": "light"
     },
     "output_type": "display_data"
    }
   ],
   "source": [
    "test_error7 = mean_sq_error(X_test, y_test, w_latest7, b_latest7, 'SGD Implemented')"
   ]
  },
  {
   "cell_type": "code",
   "execution_count": 903,
   "metadata": {},
   "outputs": [
    {
     "data": {
      "text/plain": [
       "22.546122092391037"
      ]
     },
     "execution_count": 903,
     "metadata": {},
     "output_type": "execute_result"
    }
   ],
   "source": [
    "# Using Sklearn\n",
    "clf1, train_mse7 = sklearn_SGD(X_train, y_train, 5000, 'invscaling', 0.01)\n",
    "test_mse7 = mean_squared_error(y_test,clf1.predict(X_test))\n",
    "train_mse7"
   ]
  },
  {
   "cell_type": "markdown",
   "metadata": {},
   "source": [
    "itr = 10000"
   ]
  },
  {
   "cell_type": "code",
   "execution_count": 904,
   "metadata": {},
   "outputs": [
    {
     "data": {
      "text/plain": [
       "8.308924995459867"
      ]
     },
     "execution_count": 904,
     "metadata": {},
     "output_type": "execute_result"
    }
   ],
   "source": [
    "X_samples, Y_samples, y_pred, w_latest8, b_latest8, train_error8 = stochastic_gradient_descent(X_train, y_train, 10000, 15, 'invscaling')\n",
    "train_error8"
   ]
  },
  {
   "cell_type": "code",
   "execution_count": 905,
   "metadata": {},
   "outputs": [
    {
     "data": {
      "image/png": "[encoded data removed]",
      "text/plain": [
       "<Figure size 432x288 with 1 Axes>"
      ]
     },
     "metadata": {
      "needs_background": "light"
     },
     "output_type": "display_data"
    }
   ],
   "source": [
    "plott(Y_samples, y_pred, 'SGD Implemented')"
   ]
  },
  {
   "cell_type": "code",
   "execution_count": 906,
   "metadata": {},
   "outputs": [
    {
     "data": {
      "image/png": "[encoded data removed]",
      "text/plain": [
       "<Figure size 432x288 with 1 Axes>"
      ]
     },
     "metadata": {
      "needs_background": "light"
     },
     "output_type": "display_data"
    }
   ],
   "source": [
    "test_error8 = mean_sq_error(X_test, y_test, w_latest8, b_latest8, 'SGD Implemented')"
   ]
  },
  {
   "cell_type": "code",
   "execution_count": 907,
   "metadata": {},
   "outputs": [
    {
     "data": {
      "text/plain": [
       "22.545657510733108"
      ]
     },
     "execution_count": 907,
     "metadata": {},
     "output_type": "execute_result"
    }
   ],
   "source": [
    "# Using Sklearn\n",
    "clf1, train_mse8 = sklearn_SGD(X_train, y_train, 10000, 'invscaling', 0.01)\n",
    "test_mse8 = mean_squared_error(y_test,clf1.predict(X_test))\n",
    "train_mse8"
   ]
  },
  {
   "cell_type": "markdown",
   "metadata": {},
   "source": [
    "# [4.1] Conclusions"
   ]
  },
  {
   "cell_type": "code",
   "execution_count": 910,
   "metadata": {},
   "outputs": [
    {
     "name": "stdout",
     "output_type": "stream",
     "text": [
      "+-----------------+--------------------+---------------+-------------------+--------------------+--------------------+\n",
      "|    Algorithm    | Learning Rate Type | Learning Rate | No. of Iterations |     Train MSE      |      Test MSE      |\n",
      "+-----------------+--------------------+---------------+-------------------+--------------------+--------------------+\n",
      "| SGD Implemented |      constant      |      0.01     |        100        | 48.92878984555921  | 36.732583474085736 |\n",
      "| SGD Implemented |      constant      |      0.01     |        1000       | 26.606888825077267 | 22.161182808502716 |\n",
      "| SGD Implemented |      constant      |      0.01     |        5000       | 22.69599928570044  | 21.264608591302853 |\n",
      "| SGD Implemented |      constant      |      0.01     |       10000       | 25.75845902947859  | 21.324201420092944 |\n",
      "| SGD Implemented |     invscaling     |      0.01     |        100        | 206.6501596572818  | 257.22810197394836 |\n",
      "| SGD Implemented |     invscaling     |      0.01     |        1000       |  48.2860956123789  |  67.9472580590768  |\n",
      "| SGD Implemented |     invscaling     |      0.01     |        5000       | 14.961183281522397 | 26.22162245545992  |\n",
      "| SGD Implemented |     invscaling     |      0.01     |       10000       | 8.308924995459867  | 25.109769057193617 |\n",
      "|     Sklearn     |      constant      |      0.01     |        100        | 25.44650397100788  |  21.1022590113794  |\n",
      "|     Sklearn     |      constant      |      0.01     |        1000       | 24.546898911592436 | 23.174692582451762 |\n",
      "|     Sklearn     |      constant      |      0.01     |        5000       | 22.920499619484392 |  21.1022590113794  |\n",
      "|     Sklearn     |      constant      |      0.01     |       10000       | 28.179224200228315 |  21.1022590113794  |\n",
      "|     Sklearn     |     invscaling     |      0.01     |        100        | 22.60830921541977  | 21.428173548744745 |\n",
      "|     Sklearn     |     invscaling     |      0.01     |        1000       | 22.55418955713128  | 21.422804133615283 |\n",
      "|     Sklearn     |     invscaling     |      0.01     |        5000       | 22.546122092391037 | 21.48359284183169  |\n",
      "|     Sklearn     |     invscaling     |      0.01     |       10000       | 22.545657510733108 | 21.523209765189705 |\n",
      "+-----------------+--------------------+---------------+-------------------+--------------------+--------------------+\n"
     ]
    }
   ],
   "source": [
    "#Source: http://zetcode.com/python/prettytable/\n",
    "from prettytable import PrettyTable\n",
    "    \n",
    "model_metric = PrettyTable()\n",
    "\n",
    "model_metric = PrettyTable([\"Algorithm\", \"Learning Rate Type\", \"Learning Rate\", 'No. of Iterations', 'Train MSE', 'Test MSE'])\n",
    "\n",
    "model_metric.add_row([\"SGD Implemented\",\"constant\", \"0.01\", \"100\", train_error1, test_error1])\n",
    "model_metric.add_row([\"SGD Implemented\",\"constant\", \"0.01\", \"1000\", train_error2, test_error2])\n",
    "model_metric.add_row([\"SGD Implemented\",\"constant\", \"0.01\", \"5000\", train_error3, test_error3])\n",
    "model_metric.add_row([\"SGD Implemented\",\"constant\", \"0.01\", \"10000\", train_error4, test_error4])\n",
    "model_metric.add_row([\"SGD Implemented\",\"invscaling\", \"0.01\", \"100\", train_error5, test_error5])\n",
    "model_metric.add_row([\"SGD Implemented\",\"invscaling\", \"0.01\", \"1000\", train_error6, test_error6])\n",
    "model_metric.add_row([\"SGD Implemented\",\"invscaling\", \"0.01\", \"5000\", train_error7, test_error7])\n",
    "model_metric.add_row([\"SGD Implemented\",\"invscaling\", \"0.01\", \"10000\", train_error8, test_error8])\n",
    "\n",
    "model_metric.add_row([\"Sklearn\",\"constant\", \"0.01\", \"100\", train_mse1, test_mse1])\n",
    "model_metric.add_row([\"Sklearn\",\"constant\", \"0.01\", \"1000\", train_mse2, test_mse2])\n",
    "model_metric.add_row([\"Sklearn\",\"constant\", \"0.01\", \"5000\", train_mse3, test_mse3])\n",
    "model_metric.add_row([\"Sklearn\",\"constant\", \"0.01\", \"10000\", train_mse4, test_mse4])\n",
    "model_metric.add_row([\"Sklearn\",\"invscaling\", \"0.01\", \"100\", train_mse5, test_mse5])\n",
    "model_metric.add_row([\"Sklearn\",\"invscaling\", \"0.01\", \"1000\", train_mse6, test_mse6])\n",
    "model_metric.add_row([\"Sklearn\",\"invscaling\", \"0.01\", \"5000\", train_mse7, test_mse7])\n",
    "model_metric.add_row([\"Sklearn\",\"invscaling\", \"0.01\", \"10000\", train_mse8, test_mse8])\n",
    "\n",
    "print(model_metric.get_string(start=0))"
   ]
  },
  {
   "cell_type": "markdown",
   "metadata": {},
   "source": [
    "## [4.2] Steps for implementing the Mini-Batch SGD"
   ]
  },
  {
   "cell_type": "markdown",
   "metadata": {},
   "source": [
    "\n",
    "\n",
    "Equations of Mini-batch SGD for Linear regression: \n",
    "\n",
    "\\begin{equation*}\n",
    "\\frac{\\partial L}{\\partial w} = w_0 -  \\sum_{k=1}^j -(2/j) x_i (y_i - (w^T * x_i + b_i))\n",
    "\\end{equation*}\n",
    "\n",
    "\\begin{equation*}\n",
    "\\frac{\\partial L}{\\partial b} = b_0 -  \\sum_{k=1}^j -(2/j) (y_i - (w^T * x_i + b_i))\n",
    "\\end{equation*}\n",
    "\n",
    "\n",
    "\n",
    "1) Using the train data to find the components of the SGD for Linear regression such as m_derivative(w_i) and b_derivative(b_i) for a batch of randomly sampled points from train data for 'n' number of epochs. For every epoch a new batch is sampled here.\n",
    "\n",
    "\n",
    "2) After running for n epochs, we'll obtain the optimal m_derivative and b_derivative values for the nth batch which is sum of m_derivative and b_derivative for all the points. Now multiply both of them with the learning rate to get w_i and b_i. Now, get w_0 and b_0 from n-1 epoch of the batch and subtract with the w_i and b_i respectively to get the updated values w_updated and b_updated.\n",
    "\n",
    "\n",
    "3) When a point(x_test) in test data is given we'll calculate the following for the price prediction:\n",
    "            \n",
    "            y_pred = w_updated * x_test+ b_updated\n",
    "\n",
    "\n",
    "4) The above step is repeated for all the test data points and all the predicted values are stored in a list. \n",
    "\n",
    "\n",
    "5) If the prices of the corresponding test data is present, we can plot a scatter plot for the predicted values and the actual values for the test data. Similar plot can be done for train data as well.\n",
    "\n",
    "\n",
    "6) Mean Square Error is calculated for the test data to check the performance of the model on the unseen data. If this is high then the model performance is bad."
   ]
  },
  {
   "cell_type": "markdown",
   "metadata": {},
   "source": [
    "## [4.3] Observations"
   ]
  },
  {
   "cell_type": "markdown",
   "metadata": {},
   "source": [
    "1. Mini-Batch SGD for linear regression is implemeted with the help of Sklearn's SGDRegressor. This algorithm uses two types of learning rates:\n",
    "        a) Constant\n",
    "        b) Inverse Scaling or invscaling\n",
    "\n",
    "\n",
    "2. Sklearn's SGDRegressor is also utilized to generate results on the same data.\n",
    "\n",
    "3. No. of iterations used for both type of implementations are 100, 1000, 5000, 1000\n",
    "\n",
    "4. The Mean Square Errors(MSE) of the implemented Mini-Batch SGD both on Train and Test data are very close to that of Sklearn's SGDRegressor results except in 3 cases.\n",
    "\n",
    "5. The results are consistent and reproducible.\n",
    "\n",
    "6. By observation on all the graphs, the points on the graph are aligned towards a straight line."
   ]
  }
 ],
 "metadata": {
  "colab": {
   "name": "Untitled3.ipynb",
   "provenance": [],
   "version": "0.3.2"
  },
  "kernelspec": {
   "display_name": "Python 3",
   "language": "python",
   "name": "python3"
  },
  "language_info": {
   "codemirror_mode": {
    "name": "ipython",
    "version": 3
   },
   "file_extension": ".py",
   "mimetype": "text/x-python",
   "name": "python",
   "nbconvert_exporter": "python",
   "pygments_lexer": "ipython3",
   "version": "3.7.2"
  }
 },
 "nbformat": 4,
 "nbformat_minor": 2
}
