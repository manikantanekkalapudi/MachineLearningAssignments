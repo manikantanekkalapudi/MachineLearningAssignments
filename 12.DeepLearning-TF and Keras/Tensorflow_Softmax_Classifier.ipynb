{
 "cells": [
  {
   "cell_type": "markdown",
   "metadata": {
    "colab_type": "text",
    "id": "UhNRn7pEro8w"
   },
   "source": [
    "# Softmax Classifier using TensorFlow"
   ]
  },
  {
   "cell_type": "code",
   "execution_count": 16,
   "metadata": {
    "colab": {},
    "colab_type": "code",
    "id": "QAuadyaFro80",
    "outputId": "000be423-b601-41cf-ad25-9b9da9775d9a"
   },
   "outputs": [
    {
     "name": "stdout",
     "output_type": "stream",
     "text": [
      "Extracting MNIST_data/train-images-idx3-ubyte.gz\n",
      "Extracting MNIST_data/train-labels-idx1-ubyte.gz\n",
      "Extracting MNIST_data/t10k-images-idx3-ubyte.gz\n",
      "Extracting MNIST_data/t10k-labels-idx1-ubyte.gz\n"
     ]
    }
   ],
   "source": [
    "# credits: https://www.tensorflow.org/versions/r1.1/get_started/mnist/beginners\n",
    "from tensorflow.examples.tutorials.mnist import input_data\n",
    "mnist = input_data.read_data_sets(\"MNIST_data/\", one_hot=True)"
   ]
  },
  {
   "cell_type": "code",
   "execution_count": 17,
   "metadata": {
    "colab": {},
    "colab_type": "code",
    "id": "3nD4hN9Gro9L"
   },
   "outputs": [],
   "source": [
    "import numpy as np"
   ]
  },
  {
   "cell_type": "markdown",
   "metadata": {
    "colab_type": "text",
    "id": "-p1oHQDVro9U"
   },
   "source": [
    "\n",
    "Every MNIST data point has two parts: an image of a handwritten digit and a corresponding label. We'll call the images \"x\" and the labels \"y\". Both the training set and test set contain images and their corresponding labels; for example the training images are mnist.train.images and the training labels are mnist.train.labels.\n"
   ]
  },
  {
   "cell_type": "markdown",
   "metadata": {
    "colab_type": "text",
    "id": "-MS3H9-Kro9W"
   },
   "source": [
    "\n",
    "mnist.train.images is a tensor (an n-dimensional array) with a shape of [55000, 784]. The first dimension is an index into the list of images and the second dimension is the index for each pixel in each image. Each entry in the tensor is a pixel intensity between 0 and 1, for a particular pixel in a particular image.\n"
   ]
  },
  {
   "cell_type": "code",
   "execution_count": 18,
   "metadata": {
    "colab": {},
    "colab_type": "code",
    "id": "_v5ltd4uro9Z",
    "outputId": "8d504cb9-29ae-4d4f-8870-5bf8764a3b04"
   },
   "outputs": [
    {
     "name": "stdout",
     "output_type": "stream",
     "text": [
      "number of data points :  55000 number of pixels in each image : 784\n"
     ]
    }
   ],
   "source": [
    "print(\"number of data points : \", mnist.train.images.shape[0],\"number of pixels in each image :\",mnist.train.images.shape[1])"
   ]
  },
  {
   "cell_type": "markdown",
   "metadata": {
    "colab_type": "text",
    "id": "GgaHugyNro9i"
   },
   "source": [
    "\n",
    "we're going to want our class-labels as \"one-hot vectors\". A one-hot vector is a vector which is 0 in most dimensions, and 1 in a single dimension. In this case, the t-th digit will be represented as a vector which is 1 in the t-th dimension. For example, 3 would be [0,0,0,1,0,0,0,0,0,0]. Consequently, mnist.train.labels is a [55000, 10] array of floats.\n"
   ]
  },
  {
   "cell_type": "code",
   "execution_count": 19,
   "metadata": {
    "colab": {},
    "colab_type": "code",
    "id": "IwEk7I3iro9k",
    "outputId": "d89300ad-8623-4fab-f090-f762061740ce"
   },
   "outputs": [
    {
     "name": "stdout",
     "output_type": "stream",
     "text": [
      "number of data points :  10000  length of the one hot encoded label vector : 10\n"
     ]
    }
   ],
   "source": [
    "print(\"number of data points : \", mnist.test.labels.shape[0],\" length of the one hot encoded label vector :\",mnist.test.labels.shape[1])"
   ]
  },
  {
   "cell_type": "markdown",
   "metadata": {
    "colab_type": "text",
    "id": "_iquBvcxro9s"
   },
   "source": [
    "\n",
    "If you want to assign probabilities to an object being one of several different things, softmax (Multiclass Logistic regression) is the thing to do, because softmax gives us a list of values between 0 and 1 that add up to 1. Even later on, when we train more sophisticated models, the final step will be a layer of softmax.\n",
    "\n",
    "A softmax regression has two steps: first we add up the evidence of our input being in certain classes, and then we convert that evidence into probabilities.\n"
   ]
  },
  {
   "cell_type": "code",
   "execution_count": 20,
   "metadata": {
    "colab": {},
    "colab_type": "code",
    "id": "4RiPinIxro9u"
   },
   "outputs": [],
   "source": [
    "import tensorflow as tf"
   ]
  },
  {
   "cell_type": "code",
   "execution_count": 21,
   "metadata": {
    "colab": {},
    "colab_type": "code",
    "id": "5sFc2FZcro9y",
    "outputId": "1e97b7a6-41cb-4a20-b750-acf5d93a6a90",
    "scrolled": true
   },
   "outputs": [
    {
     "name": "stdout",
     "output_type": "stream",
     "text": [
      "[name: \"/device:CPU:0\"\n",
      "device_type: \"CPU\"\n",
      "memory_limit: 268435456\n",
      "locality {\n",
      "}\n",
      "incarnation: 17772744279889263448\n",
      ", name: \"/device:XLA_CPU:0\"\n",
      "device_type: \"XLA_CPU\"\n",
      "memory_limit: 17179869184\n",
      "locality {\n",
      "}\n",
      "incarnation: 5929863031256098806\n",
      "physical_device_desc: \"device: XLA_CPU device\"\n",
      "]\n"
     ]
    }
   ],
   "source": [
    "# Get a list of devices like GPUs and CPUs available to TF\n",
    "\n",
    "from tensorflow.python.client import device_lib\n",
    "print(device_lib.list_local_devices())"
   ]
  },
  {
   "cell_type": "markdown",
   "metadata": {
    "colab_type": "text",
    "id": "Me4O2pkUro93"
   },
   "source": [
    "\n",
    "Sample Output (with a GPU) <br>\n",
    "\n",
    "[name: \"/cpu:0\" device_type: \"CPU\" memory_limit: 268435456 locality { } incarnation: 4402277519343584096,\n",
    "\n",
    "name: \"/gpu:0\" device_type: \"GPU\" memory_limit: 6772842168 locality { bus_id: 1 } incarnation: 7471795903849088328 physical_device_desc: \"device: 0, name: GeForce GTX 1070, pci bus id: 0000:05:00.0\" ]"
   ]
  },
  {
   "cell_type": "markdown",
   "metadata": {
    "colab_type": "text",
    "id": "fQeukILEro94"
   },
   "source": [
    "### Placeholders and Variables"
   ]
  },
  {
   "cell_type": "code",
   "execution_count": 22,
   "metadata": {
    "colab": {},
    "colab_type": "code",
    "id": "dSl4cllIro95"
   },
   "outputs": [],
   "source": [
    "# x isn't a specific value. It's a placeholder. A placeholder can be imagained as \n",
    "# a memory unit that we use to load various mini-batches of input data while training.\n",
    "\n",
    "\n",
    "# We want to be able to input any number of MNIST images, \n",
    "# each flattened into a 784-dimensional vector. \n",
    "\n",
    "# We represent this as a 2-D tensor of floating-point numbers, \n",
    "# with a shape [None, 784]. \n",
    "\n",
    "# (Here None means that a dimension can be of any length.)\n",
    "x = tf.placeholder(tf.float32, [None, 784])\n",
    "\n",
    "# We also need the weights and biases for our model. \n",
    "\n",
    "# We could imagine treating these like additional inputs, \n",
    "# but TensorFlow has an even better way to handle it: Variable. \n",
    "\n",
    "# A Variable is a modifiable tensor that lives in TensorFlow's graph\n",
    "# of interacting operations. \n",
    "\n",
    "# It can be used and even modified by the computation. \n",
    "# For machine learning applications, one generally has the model parameters be Variables.\n",
    "W = tf.Variable(tf.zeros([784, 10]))\n",
    "b = tf.Variable(tf.zeros([10]))"
   ]
  },
  {
   "cell_type": "code",
   "execution_count": 23,
   "metadata": {
    "colab": {},
    "colab_type": "code",
    "id": "e6IQPfMero98"
   },
   "outputs": [],
   "source": [
    "# First, we multiply x by W with the expression tf.matmul(x, W). \n",
    "# This is flipped from when we multiplied them in our equation, \n",
    "# where we had Wx , as a small trick to deal with x being a 2D tensor \n",
    "# with multiple inputs. \n",
    "\n",
    "# We then add b, and finally apply tf.nn.softmax.\n",
    "y = tf.nn.softmax(tf.matmul(x, W) + b)"
   ]
  },
  {
   "cell_type": "code",
   "execution_count": 24,
   "metadata": {
    "colab": {},
    "colab_type": "code",
    "id": "kabqZYcaro9_"
   },
   "outputs": [],
   "source": [
    "# y_ is true label of the images, and similar to x\n",
    "y_ = tf.placeholder(tf.float32, [None, 10])\n",
    "\n",
    "\n",
    "# Defining the loss function: multi class log-loss/cross-entropy\n",
    "# First, tf.log computes the logarithm of each element of y. \n",
    "\n",
    "# Next, we multiply each element of y_ with the corresponding element \n",
    "# of tf.log(y). \n",
    "\n",
    "# Then tf.reduce_sum adds the elements in the second dimension of y, \n",
    "# due to the reduction_indices=[1] parameter. \n",
    "\n",
    "#Tutorial for tf.reduce_sum: https://www.dotnetperls.com/reduce-sum-tensorflow\n",
    "\n",
    "# Reduction is an operation that removes one or more dimensions from a tensor by performing \n",
    "# certain operations across those dimensions.\n",
    "\n",
    "# Finally, tf.reduce_mean computes the mean over all the examples in the batch.\n",
    "cross_entropy = tf.reduce_mean(-tf.reduce_sum(y_ * tf.log(y), reduction_indices=[1]))"
   ]
  },
  {
   "cell_type": "code",
   "execution_count": 25,
   "metadata": {
    "colab": {},
    "colab_type": "code",
    "id": "vREdzNYPro-D"
   },
   "outputs": [],
   "source": [
    "# In this case, we ask TensorFlow to minimize cross_entropy \n",
    "# using the gradient descent algorithm with a learning rate of 0.05.\n",
    "\n",
    "# https://www.tensorflow.org/versions/r1.2/api_guides/python/train#Optimizers\n",
    "\n",
    "train_step = tf.train.GradientDescentOptimizer(0.05).minimize(cross_entropy)\n",
    "\n",
    "# What TensorFlow actually does here, behind the scenes,\n",
    "# is to add new operations to your computation-graph which implement backpropagation and gradient descent.\n",
    "# Then it gives you back a single operation which, when run, does a step of gradient descent training, \n",
    "# slightly tweaking your variables to reduce the loss."
   ]
  },
  {
   "cell_type": "code",
   "execution_count": 26,
   "metadata": {
    "colab": {},
    "colab_type": "code",
    "id": "7DmJqAN3ro-I"
   },
   "outputs": [
    {
     "name": "stderr",
     "output_type": "stream",
     "text": [
      "/home/srinu/anaconda3/lib/python3.7/site-packages/tensorflow/python/client/session.py:1702: UserWarning: An interactive session is already active. This can cause out-of-memory errors in some cases. You must explicitly call `InteractiveSession.close()` to release resources held by the other session(s).\n",
      "  warnings.warn('An interactive session is already active. This can '\n"
     ]
    }
   ],
   "source": [
    "# We can now launch the model in an InteractiveSession\n",
    "sess = tf.InteractiveSession()\n",
    "\n",
    "# We first have to create an operation to initialize the \n",
    "# variables we created:\n",
    "tf.global_variables_initializer().run()"
   ]
  },
  {
   "cell_type": "code",
   "execution_count": 27,
   "metadata": {
    "colab": {},
    "colab_type": "code",
    "id": "W9dHQaw-ro-M"
   },
   "outputs": [],
   "source": [
    "# Each step of the loop, we get a \"mini-batch\" of one hundred random data \n",
    "# points from our training set. \n",
    "\n",
    "# We run train_step feeding in the batches data to replace \n",
    "# the placeholders\n",
    "for _ in range(1000):\n",
    "    batch_xs, batch_ys = mnist.train.next_batch(100)\n",
    "    sess.run(train_step, feed_dict={x: batch_xs, y_: batch_ys})\n",
    "\n",
    "# Using small batches of random data is called stochastic training -- in this case, stochastic gradient descent. \n",
    "# Ideally, we'd like to use all our data for every step of training because that would give us a better sense of\n",
    "# what we should be doing, but that's expensive. So, instead, we use a different subset every time. \n",
    "# Doing this is cheap and has much of the same benefit."
   ]
  },
  {
   "cell_type": "code",
   "execution_count": 28,
   "metadata": {
    "colab": {},
    "colab_type": "code",
    "id": "02cd-K4uro-Q",
    "outputId": "02c04ee0-8378-4210-ac4d-d1721a2f5dad"
   },
   "outputs": [
    {
     "name": "stdout",
     "output_type": "stream",
     "text": [
      "0.8999\n"
     ]
    }
   ],
   "source": [
    "# https://stackoverflow.com/a/41863099\n",
    "# tf.argmax(input, axis=None, name=None, dimension=None)\n",
    "# Returns the index with the largest value across axis of a tensor.\n",
    "correct_prediction = tf.equal(tf.argmax(y,1), tf.argmax(y_,1))\n",
    "accuracy = tf.reduce_mean(tf.cast(correct_prediction, tf.float32))\n",
    "print(sess.run(accuracy, feed_dict={x: mnist.test.images, y_: mnist.test.labels}))"
   ]
  },
  {
   "cell_type": "code",
   "execution_count": 29,
   "metadata": {
    "colab": {},
    "colab_type": "code",
    "id": "Ian22lpAro-V"
   },
   "outputs": [],
   "source": [
    "%matplotlib notebook\n",
    "import matplotlib.pyplot as plt\n",
    "import numpy as np\n",
    "import time\n",
    "# https://gist.github.com/greydanus/f6eee59eaf1d90fcb3b534a25362cea4\n",
    "# https://stackoverflow.com/a/14434334\n",
    "def plt_dynamic(x, y, y_1, ax, colors=['b']):\n",
    "    ax.plot(x, y, 'b', label=\"Train Loss\")\n",
    "    ax.plot(x, y_1, 'r', label=\"Test Loss\")\n",
    "    if len(x)==1:\n",
    "        plt.legend()\n",
    "    fig.canvas.draw()"
   ]
  },
  {
   "cell_type": "code",
   "execution_count": 30,
   "metadata": {
    "colab": {},
    "colab_type": "code",
    "id": "6ECWKXHiro-b",
    "outputId": "97010663-7653-4afc-bf80-961d544f0ae2",
    "scrolled": false
   },
   "outputs": [
    {
     "name": "stdout",
     "output_type": "stream",
     "text": [
      "Accuracy: 0.9087\n"
     ]
    },
    {
     "data": {
      "image/png": "[encoded data removed]",
      "text/plain": [
       "<Figure size 432x288 with 1 Axes>"
      ]
     },
     "metadata": {
      "needs_background": "light"
     },
     "output_type": "display_data"
    }
   ],
   "source": [
    "%matplotlib inline\n",
    "# summarizing everything in single cell\n",
    "training_epochs = 100\n",
    "batch_size = 1000\n",
    "display_step = 1\n",
    "cross_entropy = tf.reduce_mean(tf.nn.softmax_cross_entropy_with_logits(logits = y, labels = y_))\n",
    "train_step = tf.train.GradientDescentOptimizer(0.05).minimize(cross_entropy)\n",
    "\n",
    "fig,ax = plt.subplots(1,1)\n",
    "ax.set_xlabel('epoch') ; ax.set_ylabel('Soft Max Cross Entropy loss')\n",
    "xs, ytrs, ytes = [], [], []\n",
    "for epoch in range(training_epochs):\n",
    "        train_avg_cost = 0.\n",
    "        test_avg_cost = 0.\n",
    "        total_batch = int(mnist.train.num_examples/batch_size)\n",
    "        # Loop over all batches\n",
    "        for i in range(total_batch):\n",
    "            batch_xs, batch_ys = mnist.train.next_batch(batch_size)\n",
    "            _, c = sess.run([train_step, cross_entropy], feed_dict={x: batch_xs, y_: batch_ys})\n",
    "            train_avg_cost += c / total_batch\n",
    "            c = sess.run(cross_entropy, feed_dict={x: mnist.test.images, y_: mnist.test.labels})\n",
    "            test_avg_cost += c / total_batch\n",
    "\n",
    "        xs.append(epoch)\n",
    "        ytrs.append(train_avg_cost)\n",
    "        ytes.append(test_avg_cost)\n",
    "        plt_dynamic(xs, ytrs, ytes, ax)\n",
    "        \n",
    "\n",
    "plt_dynamic(xs, ytrs, ytes, ax)\n",
    "correct_prediction = tf.equal(tf.argmax(y,1), tf.argmax(y_,1))\n",
    "accuracy = tf.reduce_mean(tf.cast(correct_prediction, tf.float32))\n",
    "print(\"Accuracy:\", accuracy.eval({x: mnist.test.images, y_: mnist.test.labels}))"
   ]
  },
  {
   "cell_type": "code",
   "execution_count": null,
   "metadata": {},
   "outputs": [],
   "source": []
  }
 ],
 "metadata": {
  "colab": {
   "name": "Tensorflow_Softmax_Classifier.ipynb",
   "provenance": [],
   "version": "0.3.2"
  },
  "kernelspec": {
   "display_name": "Python 3",
   "language": "python",
   "name": "python3"
  },
  "language_info": {
   "codemirror_mode": {
    "name": "ipython",
    "version": 3
   },
   "file_extension": ".py",
   "mimetype": "text/x-python",
   "name": "python",
   "nbconvert_exporter": "python",
   "pygments_lexer": "ipython3",
   "version": "3.7.3"
  }
 },
 "nbformat": 4,
 "nbformat_minor": 2
}
