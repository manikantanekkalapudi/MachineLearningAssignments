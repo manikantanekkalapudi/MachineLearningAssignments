{
 "cells": [
  {
   "cell_type": "code",
   "execution_count": 3,
   "metadata": {
    "colab": {
     "base_uri": "https://localhost:8080/",
     "height": 34
    },
    "colab_type": "code",
    "id": "0FbhJFTwCmmh",
    "outputId": "394d75b1-439b-4687-cc32-495001146703"
   },
   "outputs": [
    {
     "name": "stderr",
     "output_type": "stream",
     "text": [
      "Using TensorFlow backend.\n"
     ]
    }
   ],
   "source": [
    "import pandas as pd\n",
    "import numpy as np\n",
    "import nltk\n",
    "import sqlite3\n",
    "import os\n",
    "from bs4 import BeautifulSoup\n",
    "from sklearn.model_selection import train_test_split\n",
    "from keras.preprocessing.text import Tokenizer\n",
    "from keras.preprocessing import sequence\n",
    "from keras.models import Sequential\n",
    "from keras.layers import Dense, BatchNormalization, LSTM, Dropout\n",
    "from keras.layers.embeddings import Embedding"
   ]
  },
  {
   "cell_type": "code",
   "execution_count": 4,
   "metadata": {
    "colab": {
     "base_uri": "https://localhost:8080/",
     "height": 122
    },
    "colab_type": "code",
    "id": "cPgGQWjy6kgA",
    "outputId": "c438bfca-1f63-49f1-943e-ab29906d9b51"
   },
   "outputs": [
    {
     "name": "stdout",
     "output_type": "stream",
     "text": [
      "Go to this URL in a browser: https://accounts.google.com/o/oauth2/auth?client_id=947318989803-6bn6qk8qdgf4n4g3pfee6491hc0brc4i.apps.googleusercontent.com&redirect_uri=urn%3Aietf%3Awg%3Aoauth%3A2.0%3Aoob&scope=email%20https%3A%2F%2Fwww.googleapis.com%2Fauth%2Fdocs.test%20https%3A%2F%2Fwww.googleapis.com%2Fauth%2Fdrive%20https%3A%2F%2Fwww.googleapis.com%2Fauth%2Fdrive.photos.readonly%20https%3A%2F%2Fwww.googleapis.com%2Fauth%2Fpeopleapi.readonly&response_type=code\n",
      "\n",
      "Enter your authorization code:\n",
      "··········\n",
      "Mounted at /content/gdrive\n"
     ]
    }
   ],
   "source": [
    "from google.colab import drive\n",
    "drive.mount('/content/gdrive')"
   ]
  },
  {
   "cell_type": "code",
   "execution_count": null,
   "metadata": {
    "colab": {},
    "colab_type": "code",
    "id": "WQHW_5Ha206C"
   },
   "outputs": [],
   "source": [
    "%matplotlib inline\n",
    "import matplotlib.pyplot as plt\n",
    "import numpy as np\n",
    "import time\n",
    "# https://gist.github.com/greydanus/f6eee59eaf1d90fcb3b534a25362cea4\n",
    "# https://stackoverflow.com/a/14434334\n",
    "# this function is used to update the plots for each epoch and error\n",
    "def plt_dynamic(x, vy, ty, ax, colors=['b']):\n",
    "    ax.plot(x, vy, 'b', label=\"Validation Loss\")\n",
    "    ax.plot(x, ty, 'r', label=\"Train Loss\")\n",
    "    plt.legend()\n",
    "    plt.grid()\n",
    "    fig.canvas.draw()"
   ]
  },
  {
   "cell_type": "code",
   "execution_count": null,
   "metadata": {
    "colab": {},
    "colab_type": "code",
    "id": "6a7s74TWC5jw"
   },
   "outputs": [],
   "source": [
    "con = sqlite3.connect(\"/content/gdrive/My Drive/Colab Notebooks/database.sqlite\") \n",
    "filtered_data = pd.read_sql_query(\"\"\"SELECT * FROM Reviews WHERE Score != 3\"\"\", con)\n",
    "\n",
    "def partition(x):\n",
    "    if x < 3:\n",
    "        return 0\n",
    "    return 1\n",
    "\n",
    "#changing reviews with score less than 3 to be positive and vice-versa\n",
    "actualScore = filtered_data['Score']\n",
    "positiveNegative = actualScore.map(partition) \n",
    "filtered_data['Score'] = positiveNegative"
   ]
  },
  {
   "cell_type": "code",
   "execution_count": 7,
   "metadata": {
    "colab": {
     "base_uri": "https://localhost:8080/",
     "height": 34
    },
    "colab_type": "code",
    "id": "Y9leOM8i4sH4",
    "outputId": "7ff614f3-edf4-4e42-d3c9-d20ec11adf13"
   },
   "outputs": [
    {
     "data": {
      "text/plain": [
       "(364173, 10)"
      ]
     },
     "execution_count": 7,
     "metadata": {
      "tags": []
     },
     "output_type": "execute_result"
    }
   ],
   "source": [
    "#Deduplication of entries\n",
    "final=filtered_data.drop_duplicates(subset={\"UserId\",\"ProfileName\",\"Time\",\"Text\"}, keep='first', inplace=False)\n",
    "final.shape"
   ]
  },
  {
   "cell_type": "code",
   "execution_count": null,
   "metadata": {
    "colab": {},
    "colab_type": "code",
    "id": "3Y4WI6474sIC"
   },
   "outputs": [],
   "source": [
    "final=final[final.HelpfulnessNumerator<=final.HelpfulnessDenominator]"
   ]
  },
  {
   "cell_type": "code",
   "execution_count": null,
   "metadata": {
    "colab": {},
    "colab_type": "code",
    "id": "aiQlx3Yt4sII"
   },
   "outputs": [],
   "source": [
    "final = final.sample(n=50000, replace=True)"
   ]
  },
  {
   "cell_type": "code",
   "execution_count": null,
   "metadata": {
    "colab": {},
    "colab_type": "code",
    "id": "38ASEeXG4sIP"
   },
   "outputs": [],
   "source": [
    "stopwords= set(['br', 'the', 'i', 'me', 'my', 'myself', 'we', 'our', 'ours', 'ourselves', 'you', \"you're\", \"you've\",\\\n",
    "            \"you'll\", \"you'd\", 'your', 'yours', 'yourself', 'yourselves', 'he', 'him', 'his', 'himself', \\\n",
    "            'she', \"she's\", 'her', 'hers', 'herself', 'it', \"it's\", 'its', 'itself', 'they', 'them', 'their',\\\n",
    "            'theirs', 'themselves', 'what', 'which', 'who', 'whom', 'this', 'that', \"that'll\", 'these', 'those', \\\n",
    "            'am', 'is', 'are', 'was', 'were', 'be', 'been', 'being', 'have', 'has', 'had', 'having', 'do', 'does', \\\n",
    "            'did', 'doing', 'a', 'an', 'the', 'and', 'but', 'if', 'or', 'because', 'as', 'until', 'while', 'of', \\\n",
    "            'at', 'by', 'for', 'with', 'about', 'against', 'between', 'into', 'through', 'during', 'before', 'after',\\\n",
    "            'above', 'below', 'to', 'from', 'up', 'down', 'in', 'out', 'on', 'off', 'over', 'under', 'again', 'further',\\\n",
    "            'then', 'once', 'here', 'there', 'when', 'where', 'why', 'how', 'all', 'any', 'both', 'each', 'few', 'more',\\\n",
    "            'most', 'other', 'some', 'such', 'only', 'own', 'same', 'so', 'than', 'too', 'very', \\\n",
    "            's', 't', 'can', 'will', 'just', 'don', \"don't\", 'should', \"should've\", 'now', 'd', 'll', 'm', 'o', 're', \\\n",
    "            've', 'y', 'ain', 'aren', \"aren't\", 'couldn', \"couldn't\", 'didn', \"didn't\", 'doesn', \"doesn't\", 'hadn',\\\n",
    "            \"hadn't\", 'hasn', \"hasn't\", 'haven', \"haven't\", 'isn', \"isn't\", 'ma', 'mightn', \"mightn't\", 'mustn',\\\n",
    "            \"mustn't\", 'needn', \"needn't\", 'shan', \"shan't\", 'shouldn', \"shouldn't\", 'wasn', \"wasn't\", 'weren', \"weren't\", \\\n",
    "            'won', \"won't\", 'wouldn', \"wouldn't\"])"
   ]
  },
  {
   "cell_type": "code",
   "execution_count": null,
   "metadata": {
    "colab": {},
    "colab_type": "code",
    "id": "vOqGiJk44sIW"
   },
   "outputs": [],
   "source": [
    "# https://stackoverflow.com/questions/16206380/python-beautifulsoup-how-to-remove-all-tags-from-an-element\n",
    "import re\n",
    "\n",
    "def decontracted(phrase):\n",
    "    # specific\n",
    "    phrase = re.sub(r\"won't\", \"will not\", phrase)\n",
    "    phrase = re.sub(r\"can\\'t\", \"can not\", phrase)\n",
    "\n",
    "    # general\n",
    "    phrase = re.sub(r\"n\\'t\", \" not\", phrase)\n",
    "    phrase = re.sub(r\"\\'re\", \" are\", phrase)\n",
    "    phrase = re.sub(r\"\\'s\", \" is\", phrase)\n",
    "    phrase = re.sub(r\"\\'d\", \" would\", phrase)\n",
    "    phrase = re.sub(r\"\\'ll\", \" will\", phrase)\n",
    "    phrase = re.sub(r\"\\'t\", \" not\", phrase)\n",
    "    phrase = re.sub(r\"\\'ve\", \" have\", phrase)\n",
    "    phrase = re.sub(r\"\\'m\", \" am\", phrase)\n",
    "    return phrase"
   ]
  },
  {
   "cell_type": "code",
   "execution_count": 12,
   "metadata": {
    "colab": {
     "base_uri": "https://localhost:8080/",
     "height": 34
    },
    "colab_type": "code",
    "id": "HBjU3kH54sIb",
    "outputId": "6b433eb4-42fa-4c4c-989a-89b7222776f4"
   },
   "outputs": [
    {
     "name": "stderr",
     "output_type": "stream",
     "text": [
      "100%|██████████| 50000/50000 [00:16<00:00, 3051.25it/s]\n"
     ]
    }
   ],
   "source": [
    "from tqdm import tqdm\n",
    "preprocessed_reviews = []\n",
    "# tqdm is for printing the status bar\n",
    "for sentance in tqdm(final['Text'].values):\n",
    "    sentance = re.sub(r\"http\\S+\", \"\", sentance)\n",
    "    sentance = BeautifulSoup(sentance, 'lxml').get_text()\n",
    "    sentance = decontracted(sentance)\n",
    "    sentance = re.sub(\"\\S*\\d\\S*\", \"\", sentance).strip()\n",
    "    sentance = re.sub('[^A-Za-z]+', ' ', sentance)\n",
    "    # https://gist.github.com/sebleier/554280\n",
    "    sentance = ' '.join(e.lower() for e in sentance.split() if e.lower() not in stopwords)\n",
    "    preprocessed_reviews.append(sentance.strip())"
   ]
  },
  {
   "cell_type": "code",
   "execution_count": null,
   "metadata": {
    "colab": {},
    "colab_type": "code",
    "id": "Lau4xic24sIo"
   },
   "outputs": [],
   "source": [
    "final['CleanedText'] = preprocessed_reviews"
   ]
  },
  {
   "cell_type": "code",
   "execution_count": null,
   "metadata": {
    "colab": {},
    "colab_type": "code",
    "id": "-8IvNm3a4sIw"
   },
   "outputs": [],
   "source": [
    "x = final['CleanedText']\n",
    "y = final['Score']\n",
    "\n",
    "x_train,x_test,y_train,y_test = train_test_split(x,y,test_size=0.3)"
   ]
  },
  {
   "cell_type": "code",
   "execution_count": null,
   "metadata": {
    "colab": {},
    "colab_type": "code",
    "id": "ntCy3dwe4sI4"
   },
   "outputs": [],
   "source": [
    "#Source: https://keras.io/preprocessing/text/\n",
    "#Source: https://www.kaggle.com/kredy10/simple-lstm-for-text-classification\n",
    "#Source: https://keras.io/preprocessing/sequence/\n",
    "\n",
    "max_words = 5000\n",
    "max_len = 600\n",
    "tok = Tokenizer(num_words=max_words)\n",
    "tok.fit_on_texts(x_train)\n",
    "sequences = tok.texts_to_sequences(x_train)\n",
    "train_sequences_matrix = sequence.pad_sequences(sequences,maxlen=max_len)"
   ]
  },
  {
   "cell_type": "code",
   "execution_count": null,
   "metadata": {
    "colab": {},
    "colab_type": "code",
    "id": "Ori133CNQa56"
   },
   "outputs": [],
   "source": [
    "test_sequences = tok.texts_to_sequences(x_test)\n",
    "test_sequences_matrix = sequence.pad_sequences(test_sequences,maxlen=max_len)"
   ]
  },
  {
   "cell_type": "code",
   "execution_count": 17,
   "metadata": {
    "colab": {
     "base_uri": "https://localhost:8080/",
     "height": 445
    },
    "colab_type": "code",
    "id": "xJFtONDY4sJc",
    "outputId": "e88bf792-8b5e-414a-e859-fa936f8cd913"
   },
   "outputs": [
    {
     "name": "stdout",
     "output_type": "stream",
     "text": [
      "WARNING:tensorflow:From /usr/local/lib/python3.6/dist-packages/tensorflow/python/framework/op_def_library.py:263: colocate_with (from tensorflow.python.framework.ops) is deprecated and will be removed in a future version.\n",
      "Instructions for updating:\n",
      "Colocations handled automatically by placer.\n",
      "WARNING:tensorflow:From /usr/local/lib/python3.6/dist-packages/keras/backend/tensorflow_backend.py:3445: calling dropout (from tensorflow.python.ops.nn_ops) with keep_prob is deprecated and will be removed in a future version.\n",
      "Instructions for updating:\n",
      "Please use `rate` instead of `keep_prob`. Rate should be set to `rate = 1 - keep_prob`.\n",
      "_________________________________________________________________\n",
      "Layer (type)                 Output Shape              Param #   \n",
      "=================================================================\n",
      "embedding_1 (Embedding)      (None, 600, 32)           160032    \n",
      "_________________________________________________________________\n",
      "lstm_1 (LSTM)                (None, 600, 100)          53200     \n",
      "_________________________________________________________________\n",
      "batch_normalization_1 (Batch (None, 600, 100)          400       \n",
      "_________________________________________________________________\n",
      "lstm_2 (LSTM)                (None, 100)               80400     \n",
      "_________________________________________________________________\n",
      "dense_1 (Dense)              (None, 1)                 101       \n",
      "=================================================================\n",
      "Total params: 294,133\n",
      "Trainable params: 293,933\n",
      "Non-trainable params: 200\n",
      "_________________________________________________________________\n",
      "None\n"
     ]
    }
   ],
   "source": [
    "embedding_vecor_length = 32\n",
    "model = Sequential()\n",
    "model.add(Embedding(max_words+1, embedding_vecor_length, input_length=max_len))\n",
    "model.add(LSTM(100, dropout = 0.3, recurrent_dropout=0.3, return_sequences=True))\n",
    "model.add(BatchNormalization())\n",
    "model.add(LSTM(100, dropout = 0.4, recurrent_dropout=0.4))\n",
    "model.add(Dense(1, activation='sigmoid'))\n",
    "model.compile(loss='binary_crossentropy', optimizer='adam', metrics=['accuracy'])\n",
    "print(model.summary())"
   ]
  },
  {
   "cell_type": "code",
   "execution_count": 18,
   "metadata": {
    "colab": {
     "base_uri": "https://localhost:8080/",
     "height": 445
    },
    "colab_type": "code",
    "id": "7ICJ5qdD4sJo",
    "outputId": "9109d2d1-0028-4f74-fc2c-0ac5d78e11c7"
   },
   "outputs": [
    {
     "name": "stdout",
     "output_type": "stream",
     "text": [
      "WARNING:tensorflow:From /usr/local/lib/python3.6/dist-packages/tensorflow/python/ops/math_ops.py:3066: to_int32 (from tensorflow.python.ops.math_ops) is deprecated and will be removed in a future version.\n",
      "Instructions for updating:\n",
      "Use tf.cast instead.\n",
      "Train on 35000 samples, validate on 15000 samples\n",
      "Epoch 1/10\n",
      "35000/35000 [==============================] - 771s 22ms/step - loss: 0.2920 - acc: 0.8836 - val_loss: 0.2549 - val_acc: 0.9053\n",
      "Epoch 2/10\n",
      "35000/35000 [==============================] - 771s 22ms/step - loss: 0.1909 - acc: 0.9253 - val_loss: 0.2202 - val_acc: 0.9131\n",
      "Epoch 3/10\n",
      "35000/35000 [==============================] - 770s 22ms/step - loss: 0.1620 - acc: 0.9378 - val_loss: 0.2265 - val_acc: 0.9151\n",
      "Epoch 4/10\n",
      "35000/35000 [==============================] - 769s 22ms/step - loss: 0.1434 - acc: 0.9456 - val_loss: 0.2207 - val_acc: 0.9197\n",
      "Epoch 5/10\n",
      "35000/35000 [==============================] - 773s 22ms/step - loss: 0.1346 - acc: 0.9496 - val_loss: 0.2457 - val_acc: 0.9144\n",
      "Epoch 6/10\n",
      "35000/35000 [==============================] - 773s 22ms/step - loss: 0.1189 - acc: 0.9562 - val_loss: 0.2365 - val_acc: 0.9193\n",
      "Epoch 7/10\n",
      "35000/35000 [==============================] - 773s 22ms/step - loss: 0.0997 - acc: 0.9641 - val_loss: 0.2503 - val_acc: 0.9175\n",
      "Epoch 8/10\n",
      "35000/35000 [==============================] - 770s 22ms/step - loss: 0.0893 - acc: 0.9674 - val_loss: 0.2699 - val_acc: 0.9188\n",
      "Epoch 9/10\n",
      "35000/35000 [==============================] - 772s 22ms/step - loss: 0.0777 - acc: 0.9709 - val_loss: 0.2939 - val_acc: 0.9179\n",
      "Epoch 10/10\n",
      "35000/35000 [==============================] - 769s 22ms/step - loss: 0.0701 - acc: 0.9748 - val_loss: 0.3049 - val_acc: 0.9169\n"
     ]
    }
   ],
   "source": [
    "history = model.fit(train_sequences_matrix, y_train, epochs=10, batch_size=100, validation_data=(test_sequences_matrix, y_test))"
   ]
  },
  {
   "cell_type": "code",
   "execution_count": 19,
   "metadata": {
    "colab": {
     "base_uri": "https://localhost:8080/",
     "height": 34
    },
    "colab_type": "code",
    "id": "KEdyVZMD4sJx",
    "outputId": "d3f0f89e-008e-4fa8-8853-f6d01966d4b3"
   },
   "outputs": [
    {
     "name": "stdout",
     "output_type": "stream",
     "text": [
      "Accuracy: 91.69%\n"
     ]
    }
   ],
   "source": [
    "scores = model.evaluate(test_sequences_matrix, y_test, verbose=0)\n",
    "model2_acc = scores[1]\n",
    "print(\"Accuracy: %.2f%%\" % (scores[1]*100))"
   ]
  },
  {
   "cell_type": "code",
   "execution_count": 20,
   "metadata": {
    "colab": {
     "base_uri": "https://localhost:8080/",
     "height": 317
    },
    "colab_type": "code",
    "id": "EWP99-sQM5Cq",
    "outputId": "c2dfc87b-b744-4044-d2fd-8b8674c8c1a2"
   },
   "outputs": [
    {
     "name": "stdout",
     "output_type": "stream",
     "text": [
      "Test score: 0.3049351974586646\n",
      "Test accuracy: 0.9169333333651225\n"
     ]
    },
    {
     "data": {
      "image/png": "[encoded data removed]",
      "text/plain": [
       "<Figure size 432x288 with 1 Axes>"
      ]
     },
     "metadata": {
      "tags": []
     },
     "output_type": "display_data"
    }
   ],
   "source": [
    "print('Test score:', scores[0]) \n",
    "print('Test accuracy:', scores[1])\n",
    "\n",
    "fig,ax = plt.subplots(1,1)\n",
    "ax.set_xlabel('epoch') ; ax.set_ylabel('Binary Crossentropy Loss')\n",
    "\n",
    "# list of epoch numbers\n",
    "x = list(range(1,11))\n",
    "\n",
    "vy = history.history['val_loss']\n",
    "ty = history.history['loss']\n",
    "\n",
    "\n",
    "plt_dynamic(x, vy, ty, ax)"
   ]
  },
  {
   "cell_type": "code",
   "execution_count": 21,
   "metadata": {
    "colab": {
     "base_uri": "https://localhost:8080/",
     "height": 323
    },
    "colab_type": "code",
    "id": "0LZlU7aImwOi",
    "outputId": "127edb94-be6a-4ef1-d22f-ab468286c322"
   },
   "outputs": [
    {
     "name": "stdout",
     "output_type": "stream",
     "text": [
      "_________________________________________________________________\n",
      "Layer (type)                 Output Shape              Param #   \n",
      "=================================================================\n",
      "embedding_2 (Embedding)      (None, 600, 32)           160032    \n",
      "_________________________________________________________________\n",
      "lstm_3 (LSTM)                (None, 600, 100)          53200     \n",
      "_________________________________________________________________\n",
      "batch_normalization_2 (Batch (None, 600, 100)          400       \n",
      "_________________________________________________________________\n",
      "lstm_4 (LSTM)                (None, 100)               80400     \n",
      "_________________________________________________________________\n",
      "dense_2 (Dense)              (None, 1)                 101       \n",
      "=================================================================\n",
      "Total params: 294,133\n",
      "Trainable params: 293,933\n",
      "Non-trainable params: 200\n",
      "_________________________________________________________________\n",
      "None\n"
     ]
    }
   ],
   "source": [
    "embedding_vecor_length = 32\n",
    "model = Sequential()\n",
    "model.add(Embedding(max_words+1, embedding_vecor_length, input_length=max_len))\n",
    "model.add(LSTM(100, dropout = 0.3, recurrent_dropout=0.3, return_sequences=True))\n",
    "model.add(BatchNormalization())\n",
    "model.add(LSTM(100, dropout = 0.5, recurrent_dropout=0.5))\n",
    "model.add(Dense(1, activation='sigmoid'))\n",
    "model.compile(loss='binary_crossentropy', optimizer='adam', metrics=['accuracy'])\n",
    "print(model.summary())"
   ]
  },
  {
   "cell_type": "code",
   "execution_count": 22,
   "metadata": {
    "colab": {
     "base_uri": "https://localhost:8080/",
     "height": 374
    },
    "colab_type": "code",
    "id": "5G7Xbsk5nAHZ",
    "outputId": "c8c34db2-5f59-48bd-9680-79fee01f9e25"
   },
   "outputs": [
    {
     "name": "stdout",
     "output_type": "stream",
     "text": [
      "Train on 35000 samples, validate on 15000 samples\n",
      "Epoch 1/10\n",
      "35000/35000 [==============================] - 778s 22ms/step - loss: 0.2911 - acc: 0.8842 - val_loss: 0.2121 - val_acc: 0.9165\n",
      "Epoch 2/10\n",
      "35000/35000 [==============================] - 778s 22ms/step - loss: 0.1897 - acc: 0.9248 - val_loss: 0.2191 - val_acc: 0.9161\n",
      "Epoch 3/10\n",
      "35000/35000 [==============================] - 780s 22ms/step - loss: 0.1666 - acc: 0.9374 - val_loss: 0.2104 - val_acc: 0.9205\n",
      "Epoch 4/10\n",
      "35000/35000 [==============================] - 778s 22ms/step - loss: 0.1476 - acc: 0.9447 - val_loss: 0.2258 - val_acc: 0.9194\n",
      "Epoch 5/10\n",
      "35000/35000 [==============================] - 779s 22ms/step - loss: 0.1454 - acc: 0.9453 - val_loss: 0.2256 - val_acc: 0.9187\n",
      "Epoch 6/10\n",
      "35000/35000 [==============================] - 772s 22ms/step - loss: 0.1314 - acc: 0.9510 - val_loss: 0.2409 - val_acc: 0.9177\n",
      "Epoch 7/10\n",
      "35000/35000 [==============================] - 777s 22ms/step - loss: 0.1149 - acc: 0.9593 - val_loss: 0.2577 - val_acc: 0.9185\n",
      "Epoch 8/10\n",
      "35000/35000 [==============================] - 776s 22ms/step - loss: 0.1060 - acc: 0.9608 - val_loss: 0.2702 - val_acc: 0.9175\n",
      "Epoch 9/10\n",
      "35000/35000 [==============================] - 775s 22ms/step - loss: 0.0998 - acc: 0.9635 - val_loss: 0.2497 - val_acc: 0.9154\n",
      "Epoch 10/10\n",
      "35000/35000 [==============================] - 777s 22ms/step - loss: 0.0993 - acc: 0.9637 - val_loss: 0.3191 - val_acc: 0.9153\n"
     ]
    }
   ],
   "source": [
    "history = model.fit(train_sequences_matrix, y_train, epochs=10, batch_size=100, validation_data=(test_sequences_matrix, y_test))"
   ]
  },
  {
   "cell_type": "code",
   "execution_count": 23,
   "metadata": {
    "colab": {
     "base_uri": "https://localhost:8080/",
     "height": 34
    },
    "colab_type": "code",
    "id": "cbaUGizVnD6V",
    "outputId": "76de30ba-22d1-4121-c744-c8808b1100e0"
   },
   "outputs": [
    {
     "name": "stdout",
     "output_type": "stream",
     "text": [
      "Accuracy: 91.53%\n"
     ]
    }
   ],
   "source": [
    "scores = model.evaluate(test_sequences_matrix, y_test, verbose=0)\n",
    "model3_acc = scores[1]\n",
    "print(\"Accuracy: %.2f%%\" % (scores[1]*100))"
   ]
  },
  {
   "cell_type": "code",
   "execution_count": 24,
   "metadata": {
    "colab": {
     "base_uri": "https://localhost:8080/",
     "height": 317
    },
    "colab_type": "code",
    "id": "n-vBvoPKNRJ4",
    "outputId": "ba255b1c-079b-434a-9711-98db7a6ec613"
   },
   "outputs": [
    {
     "name": "stdout",
     "output_type": "stream",
     "text": [
      "Test score: 0.3190554770519336\n",
      "Test accuracy: 0.9152666666348775\n"
     ]
    },
    {
     "data": {
      "image/png": "[encoded data removed]",
      "text/plain": [
       "<Figure size 432x288 with 1 Axes>"
      ]
     },
     "metadata": {
      "tags": []
     },
     "output_type": "display_data"
    }
   ],
   "source": [
    "print('Test score:', scores[0]) \n",
    "print('Test accuracy:', scores[1])\n",
    "\n",
    "fig,ax = plt.subplots(1,1)\n",
    "ax.set_xlabel('epoch') ; ax.set_ylabel('Categorical Crossentropy Loss')\n",
    "\n",
    "# list of epoch numbers\n",
    "x = list(range(1,11))\n",
    "\n",
    "\n",
    "vy = history.history['val_loss']\n",
    "ty = history.history['loss']\n",
    "\n",
    "plt_dynamic(x, vy, ty, ax)"
   ]
  },
  {
   "cell_type": "code",
   "execution_count": 25,
   "metadata": {
    "colab": {
     "base_uri": "https://localhost:8080/",
     "height": 391
    },
    "colab_type": "code",
    "id": "RJr9QU9wnU_J",
    "outputId": "b52c41b0-e118-4aa3-a92c-d34181ee655e"
   },
   "outputs": [
    {
     "name": "stdout",
     "output_type": "stream",
     "text": [
      "_________________________________________________________________\n",
      "Layer (type)                 Output Shape              Param #   \n",
      "=================================================================\n",
      "embedding_3 (Embedding)      (None, 600, 32)           160032    \n",
      "_________________________________________________________________\n",
      "lstm_5 (LSTM)                (None, 600, 100)          53200     \n",
      "_________________________________________________________________\n",
      "batch_normalization_3 (Batch (None, 600, 100)          400       \n",
      "_________________________________________________________________\n",
      "lstm_6 (LSTM)                (None, 600, 100)          80400     \n",
      "_________________________________________________________________\n",
      "batch_normalization_4 (Batch (None, 600, 100)          400       \n",
      "_________________________________________________________________\n",
      "lstm_7 (LSTM)                (None, 100)               80400     \n",
      "_________________________________________________________________\n",
      "dense_3 (Dense)              (None, 1)                 101       \n",
      "=================================================================\n",
      "Total params: 374,933\n",
      "Trainable params: 374,533\n",
      "Non-trainable params: 400\n",
      "_________________________________________________________________\n",
      "None\n"
     ]
    }
   ],
   "source": [
    "embedding_vecor_length = 32\n",
    "model = Sequential()\n",
    "model.add(Embedding(max_words+1, embedding_vecor_length, input_length=max_len))\n",
    "model.add(LSTM(100, dropout = 0.7, recurrent_dropout=0.7, return_sequences=True))\n",
    "model.add(BatchNormalization())\n",
    "model.add(LSTM(100, dropout = 0.5, recurrent_dropout=0.5, return_sequences=True))\n",
    "model.add(BatchNormalization())\n",
    "model.add(LSTM(100, dropout = 0.3, recurrent_dropout=0.3))\n",
    "model.add(Dense(1, activation='sigmoid'))\n",
    "model.compile(loss='binary_crossentropy', optimizer='adam', metrics=['accuracy'])\n",
    "print(model.summary())"
   ]
  },
  {
   "cell_type": "code",
   "execution_count": 26,
   "metadata": {
    "colab": {
     "base_uri": "https://localhost:8080/",
     "height": 374
    },
    "colab_type": "code",
    "id": "hT_4AdiJnOoe",
    "outputId": "963dd5d0-63ac-4457-83a3-590e77cef1b0"
   },
   "outputs": [
    {
     "name": "stdout",
     "output_type": "stream",
     "text": [
      "Train on 35000 samples, validate on 15000 samples\n",
      "Epoch 1/10\n",
      "35000/35000 [==============================] - 1169s 33ms/step - loss: 0.3880 - acc: 0.8478 - val_loss: 0.2912 - val_acc: 0.8879\n",
      "Epoch 2/10\n",
      "35000/35000 [==============================] - 1167s 33ms/step - loss: 0.2695 - acc: 0.8907 - val_loss: 0.2452 - val_acc: 0.9081\n",
      "Epoch 3/10\n",
      "35000/35000 [==============================] - 1164s 33ms/step - loss: 0.2310 - acc: 0.9081 - val_loss: 0.2347 - val_acc: 0.9026\n",
      "Epoch 4/10\n",
      "35000/35000 [==============================] - 1169s 33ms/step - loss: 0.2151 - acc: 0.9154 - val_loss: 0.2216 - val_acc: 0.9169\n",
      "Epoch 5/10\n",
      "35000/35000 [==============================] - 1165s 33ms/step - loss: 0.1997 - acc: 0.9212 - val_loss: 0.2274 - val_acc: 0.9078\n",
      "Epoch 6/10\n",
      "35000/35000 [==============================] - 1172s 33ms/step - loss: 0.2054 - acc: 0.9189 - val_loss: 0.2251 - val_acc: 0.9112\n",
      "Epoch 7/10\n",
      "35000/35000 [==============================] - 1169s 33ms/step - loss: 0.1871 - acc: 0.9274 - val_loss: 0.2826 - val_acc: 0.9074\n",
      "Epoch 8/10\n",
      "35000/35000 [==============================] - 1164s 33ms/step - loss: 0.1861 - acc: 0.9296 - val_loss: 0.2267 - val_acc: 0.9142\n",
      "Epoch 9/10\n",
      "35000/35000 [==============================] - 1171s 33ms/step - loss: 0.1748 - acc: 0.9329 - val_loss: 0.2267 - val_acc: 0.9155\n",
      "Epoch 10/10\n",
      "35000/35000 [==============================] - 1170s 33ms/step - loss: 0.1790 - acc: 0.9323 - val_loss: 0.2218 - val_acc: 0.9163\n"
     ]
    }
   ],
   "source": [
    "history = model.fit(train_sequences_matrix, y_train, epochs=10, batch_size=100, validation_data=(test_sequences_matrix, y_test))"
   ]
  },
  {
   "cell_type": "code",
   "execution_count": 27,
   "metadata": {
    "colab": {
     "base_uri": "https://localhost:8080/",
     "height": 34
    },
    "colab_type": "code",
    "id": "BlKbcK-EnKs0",
    "outputId": "5e8ab6e5-96a0-495f-8278-d68c0491f1b4"
   },
   "outputs": [
    {
     "name": "stdout",
     "output_type": "stream",
     "text": [
      "Accuracy: 91.63%\n"
     ]
    }
   ],
   "source": [
    "scores = model.evaluate(test_sequences_matrix, y_test, verbose=0)\n",
    "model4_acc = scores[1]\n",
    "print(\"Accuracy: %.2f%%\" % (scores[1]*100))"
   ]
  },
  {
   "cell_type": "code",
   "execution_count": 28,
   "metadata": {
    "colab": {
     "base_uri": "https://localhost:8080/",
     "height": 317
    },
    "colab_type": "code",
    "id": "Yj7TrW-oNSbE",
    "outputId": "4e7e16ec-2408-4f92-f5e8-324ac3c224d0"
   },
   "outputs": [
    {
     "name": "stdout",
     "output_type": "stream",
     "text": [
      "Test score: 0.22179906602303187\n",
      "Test accuracy: 0.9163333333015442\n"
     ]
    },
    {
     "data": {
      "image/png": "[encoded data removed]",
      "text/plain": [
       "<Figure size 432x288 with 1 Axes>"
      ]
     },
     "metadata": {
      "tags": []
     },
     "output_type": "display_data"
    }
   ],
   "source": [
    "print('Test score:', scores[0]) \n",
    "print('Test accuracy:', scores[1])\n",
    "\n",
    "fig,ax = plt.subplots(1,1)\n",
    "ax.set_xlabel('epoch') ; ax.set_ylabel('Categorical Crossentropy Loss')\n",
    "\n",
    "# list of epoch numbers\n",
    "x = list(range(1,11))\n",
    "\n",
    "\n",
    "vy = history.history['val_loss']\n",
    "ty = history.history['loss']\n",
    "\n",
    "plt_dynamic(x, vy, ty, ax)"
   ]
  },
  {
   "cell_type": "code",
   "execution_count": 29,
   "metadata": {
    "colab": {
     "base_uri": "https://localhost:8080/",
     "height": 136
    },
    "colab_type": "code",
    "id": "ekVm5KM_5DZe",
    "outputId": "09102265-4a0c-4077-8d8f-16c9d3504ed8"
   },
   "outputs": [
    {
     "name": "stdout",
     "output_type": "stream",
     "text": [
      "+-------+---------------+---------------+\n",
      "| Model | # LSTM Layers | Test Accuracy |\n",
      "+-------+---------------+---------------+\n",
      "|  LSTM |    2 layers   |    0.9169%    |\n",
      "|  LSTM |    2 layer    |    0.9153%    |\n",
      "|  LSTM |    3 layers   |    0.9163%    |\n",
      "+-------+---------------+---------------+\n"
     ]
    }
   ],
   "source": [
    "from prettytable import PrettyTable\n",
    "\n",
    "model_metric = PrettyTable()\n",
    "\n",
    "model_metric = PrettyTable([\"Model\", \"# LSTM Layers\", 'Test Accuracy'])\n",
    "\n",
    "model_metric.add_row(['LSTM','2 layers','%.4f%%' %model2_acc])\n",
    "model_metric.add_row(['LSTM','2 layer','%.4f%%' %model3_acc])\n",
    "model_metric.add_row(['LSTM','3 layers','%.4f%%' %model4_acc])\n",
    "print(model_metric.get_string(start=0, end=8))"
   ]
  }
 ],
 "metadata": {
  "accelerator": "GPU",
  "colab": {
   "collapsed_sections": [],
   "name": "LSTM_Amazon_Assignment.ipynb",
   "provenance": [],
   "version": "0.3.2"
  },
  "kernelspec": {
   "display_name": "Python 3",
   "language": "python",
   "name": "python3"
  },
  "language_info": {
   "codemirror_mode": {
    "name": "ipython",
    "version": 3
   },
   "file_extension": ".py",
   "mimetype": "text/x-python",
   "name": "python",
   "nbconvert_exporter": "python",
   "pygments_lexer": "ipython3",
   "version": "3.7.3"
  }
 },
 "nbformat": 4,
 "nbformat_minor": 2
}
