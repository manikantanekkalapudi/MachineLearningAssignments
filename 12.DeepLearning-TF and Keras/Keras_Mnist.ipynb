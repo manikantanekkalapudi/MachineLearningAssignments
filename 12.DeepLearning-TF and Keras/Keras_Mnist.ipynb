{
 "cells": [
  {
   "cell_type": "markdown",
   "metadata": {
    "colab_type": "text",
    "id": "UTJmsXnXQKbG"
   },
   "source": [
    "## Keras -- MLPs on MNIST"
   ]
  },
  {
   "cell_type": "code",
   "execution_count": 1,
   "metadata": {
    "colab": {
     "base_uri": "https://localhost:8080/",
     "height": 33
    },
    "colab_type": "code",
    "executionInfo": {
     "elapsed": 8880,
     "status": "ok",
     "timestamp": 1532670072534,
     "user": {
      "displayName": "Applied AI Course",
      "photoUrl": "//lh3.googleusercontent.com/-EsJzSyawCkQ/AAAAAAAAAAI/AAAAAAAAAWk/jhKHALKaHag/s50-c-k-no/photo.jpg",
      "userId": "116292885805316472049"
     },
     "user_tz": -330
    },
    "id": "2UILABPAQKbH",
    "outputId": "10fbb305-017f-45e7-ab0c-8787e2224880"
   },
   "outputs": [
    {
     "name": "stderr",
     "output_type": "stream",
     "text": [
      "Using TensorFlow backend.\n"
     ]
    }
   ],
   "source": [
    "# if you keras is not using tensorflow as backend set \"KERAS_BACKEND=tensorflow\" use this command\n",
    "from keras.utils import np_utils \n",
    "from keras.datasets import mnist \n",
    "import seaborn as sns\n",
    "from keras.initializers import RandomNormal"
   ]
  },
  {
   "cell_type": "code",
   "execution_count": 2,
   "metadata": {
    "colab": {},
    "colab_type": "code",
    "id": "lOO-TM_7QKbM"
   },
   "outputs": [],
   "source": [
    "%matplotlib inline\n",
    "import matplotlib.pyplot as plt\n",
    "import numpy as np\n",
    "import time\n",
    "# https://gist.github.com/greydanus/f6eee59eaf1d90fcb3b534a25362cea4\n",
    "# https://stackoverflow.com/a/14434334\n",
    "# this function is used to update the plots for each epoch and error\n",
    "def plt_dynamic(x, vy, ty, ax, colors=['b']):\n",
    "    ax.plot(x, vy, 'b', label=\"Validation Loss\")\n",
    "    ax.plot(x, ty, 'r', label=\"Train Loss\")\n",
    "    plt.legend()\n",
    "    plt.grid()\n",
    "    fig.canvas.draw()"
   ]
  },
  {
   "cell_type": "code",
   "execution_count": 3,
   "metadata": {
    "colab": {
     "base_uri": "https://localhost:8080/",
     "height": 50
    },
    "colab_type": "code",
    "executionInfo": {
     "elapsed": 4700,
     "status": "ok",
     "timestamp": 1532670084617,
     "user": {
      "displayName": "Applied AI Course",
      "photoUrl": "//lh3.googleusercontent.com/-EsJzSyawCkQ/AAAAAAAAAAI/AAAAAAAAAWk/jhKHALKaHag/s50-c-k-no/photo.jpg",
      "userId": "116292885805316472049"
     },
     "user_tz": -330
    },
    "id": "TKmYKnibQKbQ",
    "outputId": "d861b5ef-2bba-4884-fec3-43f1b6e5646a"
   },
   "outputs": [],
   "source": [
    "# the data, shuffled and split between train and test sets \n",
    "(X_train, y_train), (X_test, y_test) = mnist.load_data()"
   ]
  },
  {
   "cell_type": "code",
   "execution_count": 4,
   "metadata": {
    "colab": {
     "base_uri": "https://localhost:8080/",
     "height": 50
    },
    "colab_type": "code",
    "executionInfo": {
     "elapsed": 1000,
     "status": "ok",
     "timestamp": 1532670089916,
     "user": {
      "displayName": "Applied AI Course",
      "photoUrl": "//lh3.googleusercontent.com/-EsJzSyawCkQ/AAAAAAAAAAI/AAAAAAAAAWk/jhKHALKaHag/s50-c-k-no/photo.jpg",
      "userId": "116292885805316472049"
     },
     "user_tz": -330
    },
    "id": "CCwnZae-QKbT",
    "outputId": "b5f379d4-7ebc-4112-96c5-1a4c2ab4a97c"
   },
   "outputs": [
    {
     "name": "stdout",
     "output_type": "stream",
     "text": [
      "Number of training examples : 60000 and each image is of shape (28, 28)\n",
      "Number of training examples : 10000 and each image is of shape (28, 28)\n"
     ]
    }
   ],
   "source": [
    "print(\"Number of training examples :\", X_train.shape[0], \"and each image is of shape (%d, %d)\"%(X_train.shape[1], X_train.shape[2]))\n",
    "print(\"Number of training examples :\", X_test.shape[0], \"and each image is of shape (%d, %d)\"%(X_test.shape[1], X_test.shape[2]))"
   ]
  },
  {
   "cell_type": "code",
   "execution_count": 5,
   "metadata": {
    "colab": {},
    "colab_type": "code",
    "id": "BlotuCmoQKbW"
   },
   "outputs": [],
   "source": [
    "# if you observe the input shape its 2 dimensional vector\n",
    "# for each image we have a (28*28) vector\n",
    "# we will convert the (28*28) vector into single dimensional vector of 1 * 784 \n",
    "\n",
    "X_train = X_train.reshape(X_train.shape[0], X_train.shape[1]*X_train.shape[2]) \n",
    "X_test = X_test.reshape(X_test.shape[0], X_test.shape[1]*X_test.shape[2]) "
   ]
  },
  {
   "cell_type": "code",
   "execution_count": 6,
   "metadata": {
    "colab": {
     "base_uri": "https://localhost:8080/",
     "height": 50
    },
    "colab_type": "code",
    "executionInfo": {
     "elapsed": 1001,
     "status": "ok",
     "timestamp": 1532670095751,
     "user": {
      "displayName": "Applied AI Course",
      "photoUrl": "//lh3.googleusercontent.com/-EsJzSyawCkQ/AAAAAAAAAAI/AAAAAAAAAWk/jhKHALKaHag/s50-c-k-no/photo.jpg",
      "userId": "116292885805316472049"
     },
     "user_tz": -330
    },
    "id": "8JvpNJy4QKbY",
    "outputId": "cf0b2d6d-4976-45d3-a4ad-53b2ba3eed49"
   },
   "outputs": [
    {
     "name": "stdout",
     "output_type": "stream",
     "text": [
      "Number of training examples : 60000 and each image is of shape (784)\n",
      "Number of training examples : 10000 and each image is of shape (784)\n"
     ]
    }
   ],
   "source": [
    "# after converting the input images from 3d to 2d vectors\n",
    "\n",
    "print(\"Number of training examples :\", X_train.shape[0], \"and each image is of shape (%d)\"%(X_train.shape[1]))\n",
    "print(\"Number of training examples :\", X_test.shape[0], \"and each image is of shape (%d)\"%(X_test.shape[1]))"
   ]
  },
  {
   "cell_type": "code",
   "execution_count": 7,
   "metadata": {
    "colab": {
     "base_uri": "https://localhost:8080/",
     "height": 753
    },
    "colab_type": "code",
    "executionInfo": {
     "elapsed": 1009,
     "status": "ok",
     "timestamp": 1532670101067,
     "user": {
      "displayName": "Applied AI Course",
      "photoUrl": "//lh3.googleusercontent.com/-EsJzSyawCkQ/AAAAAAAAAAI/AAAAAAAAAWk/jhKHALKaHag/s50-c-k-no/photo.jpg",
      "userId": "116292885805316472049"
     },
     "user_tz": -330
    },
    "id": "qvuaHDk0QKbb",
    "outputId": "1e5d1263-db82-4799-d47b-8a991bc2c89a"
   },
   "outputs": [
    {
     "name": "stdout",
     "output_type": "stream",
     "text": [
      "[  0   0   0   0   0   0   0   0   0   0   0   0   0   0   0   0   0   0\n",
      "   0   0   0   0   0   0   0   0   0   0   0   0   0   0   0   0   0   0\n",
      "   0   0   0   0   0   0   0   0   0   0   0   0   0   0   0   0   0   0\n",
      "   0   0   0   0   0   0   0   0   0   0   0   0   0   0   0   0   0   0\n",
      "   0   0   0   0   0   0   0   0   0   0   0   0   0   0   0   0   0   0\n",
      "   0   0   0   0   0   0   0   0   0   0   0   0   0   0   0   0   0   0\n",
      "   0   0   0   0   0   0   0   0   0   0   0   0   0   0   0   0   0   0\n",
      "   0   0   0   0   0   0   0   0   0   0   0   0   0   0   0   0   0   0\n",
      "   0   0   0   0   0   0   0   0   3  18  18  18 126 136 175  26 166 255\n",
      " 247 127   0   0   0   0   0   0   0   0   0   0   0   0  30  36  94 154\n",
      " 170 253 253 253 253 253 225 172 253 242 195  64   0   0   0   0   0   0\n",
      "   0   0   0   0   0  49 238 253 253 253 253 253 253 253 253 251  93  82\n",
      "  82  56  39   0   0   0   0   0   0   0   0   0   0   0   0  18 219 253\n",
      " 253 253 253 253 198 182 247 241   0   0   0   0   0   0   0   0   0   0\n",
      "   0   0   0   0   0   0   0   0  80 156 107 253 253 205  11   0  43 154\n",
      "   0   0   0   0   0   0   0   0   0   0   0   0   0   0   0   0   0   0\n",
      "   0  14   1 154 253  90   0   0   0   0   0   0   0   0   0   0   0   0\n",
      "   0   0   0   0   0   0   0   0   0   0   0   0   0 139 253 190   2   0\n",
      "   0   0   0   0   0   0   0   0   0   0   0   0   0   0   0   0   0   0\n",
      "   0   0   0   0   0  11 190 253  70   0   0   0   0   0   0   0   0   0\n",
      "   0   0   0   0   0   0   0   0   0   0   0   0   0   0   0   0  35 241\n",
      " 225 160 108   1   0   0   0   0   0   0   0   0   0   0   0   0   0   0\n",
      "   0   0   0   0   0   0   0   0   0  81 240 253 253 119  25   0   0   0\n",
      "   0   0   0   0   0   0   0   0   0   0   0   0   0   0   0   0   0   0\n",
      "   0   0  45 186 253 253 150  27   0   0   0   0   0   0   0   0   0   0\n",
      "   0   0   0   0   0   0   0   0   0   0   0   0   0  16  93 252 253 187\n",
      "   0   0   0   0   0   0   0   0   0   0   0   0   0   0   0   0   0   0\n",
      "   0   0   0   0   0   0   0 249 253 249  64   0   0   0   0   0   0   0\n",
      "   0   0   0   0   0   0   0   0   0   0   0   0   0   0  46 130 183 253\n",
      " 253 207   2   0   0   0   0   0   0   0   0   0   0   0   0   0   0   0\n",
      "   0   0   0   0  39 148 229 253 253 253 250 182   0   0   0   0   0   0\n",
      "   0   0   0   0   0   0   0   0   0   0   0   0  24 114 221 253 253 253\n",
      " 253 201  78   0   0   0   0   0   0   0   0   0   0   0   0   0   0   0\n",
      "   0   0  23  66 213 253 253 253 253 198  81   2   0   0   0   0   0   0\n",
      "   0   0   0   0   0   0   0   0   0   0  18 171 219 253 253 253 253 195\n",
      "  80   9   0   0   0   0   0   0   0   0   0   0   0   0   0   0   0   0\n",
      "  55 172 226 253 253 253 253 244 133  11   0   0   0   0   0   0   0   0\n",
      "   0   0   0   0   0   0   0   0   0   0 136 253 253 253 212 135 132  16\n",
      "   0   0   0   0   0   0   0   0   0   0   0   0   0   0   0   0   0   0\n",
      "   0   0   0   0   0   0   0   0   0   0   0   0   0   0   0   0   0   0\n",
      "   0   0   0   0   0   0   0   0   0   0   0   0   0   0   0   0   0   0\n",
      "   0   0   0   0   0   0   0   0   0   0   0   0   0   0   0   0   0   0\n",
      "   0   0   0   0   0   0   0   0   0   0   0   0   0   0   0   0   0   0\n",
      "   0   0   0   0   0   0   0   0   0   0]\n"
     ]
    }
   ],
   "source": [
    "# An example data point\n",
    "print(X_train[0])"
   ]
  },
  {
   "cell_type": "code",
   "execution_count": 8,
   "metadata": {
    "colab": {},
    "colab_type": "code",
    "id": "lfohtdKPQKbd"
   },
   "outputs": [],
   "source": [
    "# if we observe the above matrix each cell is having a value between 0-255\n",
    "# before we move to apply machine learning algorithms lets try to normalize the data\n",
    "# X => (X - Xmin)/(Xmax-Xmin) = X/255\n",
    "\n",
    "X_train = X_train/255\n",
    "X_test = X_test/255"
   ]
  },
  {
   "cell_type": "code",
   "execution_count": 9,
   "metadata": {
    "colab": {
     "base_uri": "https://localhost:8080/",
     "height": 2208
    },
    "colab_type": "code",
    "executionInfo": {
     "elapsed": 1017,
     "status": "ok",
     "timestamp": 1532670108312,
     "user": {
      "displayName": "Applied AI Course",
      "photoUrl": "//lh3.googleusercontent.com/-EsJzSyawCkQ/AAAAAAAAAAI/AAAAAAAAAWk/jhKHALKaHag/s50-c-k-no/photo.jpg",
      "userId": "116292885805316472049"
     },
     "user_tz": -330
    },
    "id": "4C-dmsXJQKbf",
    "outputId": "39118d5d-7c79-4f3e-c1f8-2f921de2b59d"
   },
   "outputs": [
    {
     "name": "stdout",
     "output_type": "stream",
     "text": [
      "[0.         0.         0.         0.         0.         0.\n",
      " 0.         0.         0.         0.         0.         0.\n",
      " 0.         0.         0.         0.         0.         0.\n",
      " 0.         0.         0.         0.         0.         0.\n",
      " 0.         0.         0.         0.         0.         0.\n",
      " 0.         0.         0.         0.         0.         0.\n",
      " 0.         0.         0.         0.         0.         0.\n",
      " 0.         0.         0.         0.         0.         0.\n",
      " 0.         0.         0.         0.         0.         0.\n",
      " 0.         0.         0.         0.         0.         0.\n",
      " 0.         0.         0.         0.         0.         0.\n",
      " 0.         0.         0.         0.         0.         0.\n",
      " 0.         0.         0.         0.         0.         0.\n",
      " 0.         0.         0.         0.         0.         0.\n",
      " 0.         0.         0.         0.         0.         0.\n",
      " 0.         0.         0.         0.         0.         0.\n",
      " 0.         0.         0.         0.         0.         0.\n",
      " 0.         0.         0.         0.         0.         0.\n",
      " 0.         0.         0.         0.         0.         0.\n",
      " 0.         0.         0.         0.         0.         0.\n",
      " 0.         0.         0.         0.         0.         0.\n",
      " 0.         0.         0.         0.         0.         0.\n",
      " 0.         0.         0.         0.         0.         0.\n",
      " 0.         0.         0.         0.         0.         0.\n",
      " 0.         0.         0.         0.         0.         0.\n",
      " 0.         0.         0.01176471 0.07058824 0.07058824 0.07058824\n",
      " 0.49411765 0.53333333 0.68627451 0.10196078 0.65098039 1.\n",
      " 0.96862745 0.49803922 0.         0.         0.         0.\n",
      " 0.         0.         0.         0.         0.         0.\n",
      " 0.         0.         0.11764706 0.14117647 0.36862745 0.60392157\n",
      " 0.66666667 0.99215686 0.99215686 0.99215686 0.99215686 0.99215686\n",
      " 0.88235294 0.6745098  0.99215686 0.94901961 0.76470588 0.25098039\n",
      " 0.         0.         0.         0.         0.         0.\n",
      " 0.         0.         0.         0.         0.         0.19215686\n",
      " 0.93333333 0.99215686 0.99215686 0.99215686 0.99215686 0.99215686\n",
      " 0.99215686 0.99215686 0.99215686 0.98431373 0.36470588 0.32156863\n",
      " 0.32156863 0.21960784 0.15294118 0.         0.         0.\n",
      " 0.         0.         0.         0.         0.         0.\n",
      " 0.         0.         0.         0.07058824 0.85882353 0.99215686\n",
      " 0.99215686 0.99215686 0.99215686 0.99215686 0.77647059 0.71372549\n",
      " 0.96862745 0.94509804 0.         0.         0.         0.\n",
      " 0.         0.         0.         0.         0.         0.\n",
      " 0.         0.         0.         0.         0.         0.\n",
      " 0.         0.         0.31372549 0.61176471 0.41960784 0.99215686\n",
      " 0.99215686 0.80392157 0.04313725 0.         0.16862745 0.60392157\n",
      " 0.         0.         0.         0.         0.         0.\n",
      " 0.         0.         0.         0.         0.         0.\n",
      " 0.         0.         0.         0.         0.         0.\n",
      " 0.         0.05490196 0.00392157 0.60392157 0.99215686 0.35294118\n",
      " 0.         0.         0.         0.         0.         0.\n",
      " 0.         0.         0.         0.         0.         0.\n",
      " 0.         0.         0.         0.         0.         0.\n",
      " 0.         0.         0.         0.         0.         0.\n",
      " 0.         0.54509804 0.99215686 0.74509804 0.00784314 0.\n",
      " 0.         0.         0.         0.         0.         0.\n",
      " 0.         0.         0.         0.         0.         0.\n",
      " 0.         0.         0.         0.         0.         0.\n",
      " 0.         0.         0.         0.         0.         0.04313725\n",
      " 0.74509804 0.99215686 0.2745098  0.         0.         0.\n",
      " 0.         0.         0.         0.         0.         0.\n",
      " 0.         0.         0.         0.         0.         0.\n",
      " 0.         0.         0.         0.         0.         0.\n",
      " 0.         0.         0.         0.         0.1372549  0.94509804\n",
      " 0.88235294 0.62745098 0.42352941 0.00392157 0.         0.\n",
      " 0.         0.         0.         0.         0.         0.\n",
      " 0.         0.         0.         0.         0.         0.\n",
      " 0.         0.         0.         0.         0.         0.\n",
      " 0.         0.         0.         0.31764706 0.94117647 0.99215686\n",
      " 0.99215686 0.46666667 0.09803922 0.         0.         0.\n",
      " 0.         0.         0.         0.         0.         0.\n",
      " 0.         0.         0.         0.         0.         0.\n",
      " 0.         0.         0.         0.         0.         0.\n",
      " 0.         0.         0.17647059 0.72941176 0.99215686 0.99215686\n",
      " 0.58823529 0.10588235 0.         0.         0.         0.\n",
      " 0.         0.         0.         0.         0.         0.\n",
      " 0.         0.         0.         0.         0.         0.\n",
      " 0.         0.         0.         0.         0.         0.\n",
      " 0.         0.0627451  0.36470588 0.98823529 0.99215686 0.73333333\n",
      " 0.         0.         0.         0.         0.         0.\n",
      " 0.         0.         0.         0.         0.         0.\n",
      " 0.         0.         0.         0.         0.         0.\n",
      " 0.         0.         0.         0.         0.         0.\n",
      " 0.         0.97647059 0.99215686 0.97647059 0.25098039 0.\n",
      " 0.         0.         0.         0.         0.         0.\n",
      " 0.         0.         0.         0.         0.         0.\n",
      " 0.         0.         0.         0.         0.         0.\n",
      " 0.         0.         0.18039216 0.50980392 0.71764706 0.99215686\n",
      " 0.99215686 0.81176471 0.00784314 0.         0.         0.\n",
      " 0.         0.         0.         0.         0.         0.\n",
      " 0.         0.         0.         0.         0.         0.\n",
      " 0.         0.         0.         0.         0.15294118 0.58039216\n",
      " 0.89803922 0.99215686 0.99215686 0.99215686 0.98039216 0.71372549\n",
      " 0.         0.         0.         0.         0.         0.\n",
      " 0.         0.         0.         0.         0.         0.\n",
      " 0.         0.         0.         0.         0.         0.\n",
      " 0.09411765 0.44705882 0.86666667 0.99215686 0.99215686 0.99215686\n",
      " 0.99215686 0.78823529 0.30588235 0.         0.         0.\n",
      " 0.         0.         0.         0.         0.         0.\n",
      " 0.         0.         0.         0.         0.         0.\n",
      " 0.         0.         0.09019608 0.25882353 0.83529412 0.99215686\n",
      " 0.99215686 0.99215686 0.99215686 0.77647059 0.31764706 0.00784314\n",
      " 0.         0.         0.         0.         0.         0.\n",
      " 0.         0.         0.         0.         0.         0.\n",
      " 0.         0.         0.         0.         0.07058824 0.67058824\n",
      " 0.85882353 0.99215686 0.99215686 0.99215686 0.99215686 0.76470588\n",
      " 0.31372549 0.03529412 0.         0.         0.         0.\n",
      " 0.         0.         0.         0.         0.         0.\n",
      " 0.         0.         0.         0.         0.         0.\n",
      " 0.21568627 0.6745098  0.88627451 0.99215686 0.99215686 0.99215686\n",
      " 0.99215686 0.95686275 0.52156863 0.04313725 0.         0.\n",
      " 0.         0.         0.         0.         0.         0.\n",
      " 0.         0.         0.         0.         0.         0.\n",
      " 0.         0.         0.         0.         0.53333333 0.99215686\n",
      " 0.99215686 0.99215686 0.83137255 0.52941176 0.51764706 0.0627451\n",
      " 0.         0.         0.         0.         0.         0.\n",
      " 0.         0.         0.         0.         0.         0.\n",
      " 0.         0.         0.         0.         0.         0.\n",
      " 0.         0.         0.         0.         0.         0.\n",
      " 0.         0.         0.         0.         0.         0.\n",
      " 0.         0.         0.         0.         0.         0.\n",
      " 0.         0.         0.         0.         0.         0.\n",
      " 0.         0.         0.         0.         0.         0.\n",
      " 0.         0.         0.         0.         0.         0.\n",
      " 0.         0.         0.         0.         0.         0.\n",
      " 0.         0.         0.         0.         0.         0.\n",
      " 0.         0.         0.         0.         0.         0.\n",
      " 0.         0.         0.         0.         0.         0.\n",
      " 0.         0.         0.         0.         0.         0.\n",
      " 0.         0.         0.         0.         0.         0.\n",
      " 0.         0.         0.         0.         0.         0.\n",
      " 0.         0.         0.         0.        ]\n"
     ]
    }
   ],
   "source": [
    "# example data point after normlizing\n",
    "print(X_train[0])"
   ]
  },
  {
   "cell_type": "code",
   "execution_count": 10,
   "metadata": {
    "colab": {
     "base_uri": "https://localhost:8080/",
     "height": 50
    },
    "colab_type": "code",
    "executionInfo": {
     "elapsed": 1026,
     "status": "ok",
     "timestamp": 1532670116894,
     "user": {
      "displayName": "Applied AI Course",
      "photoUrl": "//lh3.googleusercontent.com/-EsJzSyawCkQ/AAAAAAAAAAI/AAAAAAAAAWk/jhKHALKaHag/s50-c-k-no/photo.jpg",
      "userId": "116292885805316472049"
     },
     "user_tz": -330
    },
    "id": "3Ruu-vXzQKbi",
    "outputId": "95160c17-cdc3-4127-c834-e64ce0ac9cc1"
   },
   "outputs": [
    {
     "name": "stdout",
     "output_type": "stream",
     "text": [
      "Class label of first image : 5\n",
      "After converting the output into a vector :  [0. 0. 0. 0. 0. 1. 0. 0. 0. 0.]\n"
     ]
    }
   ],
   "source": [
    "# here we are having a class number for each image\n",
    "print(\"Class label of first image :\", y_train[0])\n",
    "\n",
    "# lets convert this into a 10 dimensional vector\n",
    "# ex: consider an image is 5 convert it into 5 => [0, 0, 0, 0, 0, 1, 0, 0, 0, 0]\n",
    "# this conversion needed for MLPs \n",
    "\n",
    "Y_train = np_utils.to_categorical(y_train, 10) \n",
    "Y_test = np_utils.to_categorical(y_test, 10)\n",
    "\n",
    "print(\"After converting the output into a vector : \",Y_train[0])"
   ]
  },
  {
   "cell_type": "markdown",
   "metadata": {
    "colab_type": "text",
    "id": "u0pWB6UyQKbk"
   },
   "source": [
    "<h2>  Softmax classifier  </h2>"
   ]
  },
  {
   "cell_type": "code",
   "execution_count": 11,
   "metadata": {
    "colab": {},
    "colab_type": "code",
    "id": "tLAGMubCQKbm"
   },
   "outputs": [],
   "source": [
    "# https://keras.io/getting-started/sequential-model-guide/\n",
    "\n",
    "# The Sequential model is a linear stack of layers.\n",
    "# you can create a Sequential model by passing a list of layer instances to the constructor:\n",
    "\n",
    "# model = Sequential([\n",
    "#     Dense(32, input_shape=(784,)),\n",
    "#     Activation('relu'),\n",
    "#     Dense(10),\n",
    "#     Activation('softmax'),\n",
    "# ])\n",
    "\n",
    "# You can also simply add layers via the .add() method:\n",
    "\n",
    "# model = Sequential()\n",
    "# model.add(Dense(32, input_dim=784))\n",
    "# model.add(Activation('relu'))\n",
    "\n",
    "###\n",
    "\n",
    "# https://keras.io/layers/core/\n",
    "\n",
    "# keras.layers.Dense(units, activation=None, use_bias=True, kernel_initializer='glorot_uniform', \n",
    "# bias_initializer='zeros', kernel_regularizer=None, bias_regularizer=None, activity_regularizer=None, \n",
    "# kernel_constraint=None, bias_constraint=None)\n",
    "\n",
    "# Dense implements the operation: output = activation(dot(input, kernel) + bias) where\n",
    "# activation is the element-wise activation function passed as the activation argument, \n",
    "# kernel is a weights matrix created by the layer, and \n",
    "# bias is a bias vector created by the layer (only applicable if use_bias is True).\n",
    "\n",
    "# output = activation(dot(input, kernel) + bias)  => y = activation(WT. X + b)\n",
    "\n",
    "####\n",
    "\n",
    "# https://keras.io/activations/\n",
    "\n",
    "# Activations can either be used through an Activation layer, or through the activation argument supported by all forward layers:\n",
    "\n",
    "# from keras.layers import Activation, Dense\n",
    "\n",
    "# model.add(Dense(64))\n",
    "# model.add(Activation('tanh'))\n",
    "\n",
    "# This is equivalent to:\n",
    "# model.add(Dense(64, activation='tanh'))\n",
    "\n",
    "# there are many activation functions ar available ex: tanh, relu, softmax\n",
    "\n",
    "\n",
    "from keras.models import Sequential \n",
    "from keras.layers import Dense, Activation \n"
   ]
  },
  {
   "cell_type": "code",
   "execution_count": 12,
   "metadata": {
    "colab": {},
    "colab_type": "code",
    "id": "I0s7jzhVQKbn"
   },
   "outputs": [],
   "source": [
    "# some model parameters\n",
    "\n",
    "output_dim = 10\n",
    "input_dim = X_train.shape[1]\n",
    "\n",
    "batch_size = 128 \n",
    "nb_epoch = 20"
   ]
  },
  {
   "cell_type": "code",
   "execution_count": 13,
   "metadata": {
    "colab": {},
    "colab_type": "code",
    "id": "HdQg5wGDQKbr"
   },
   "outputs": [
    {
     "name": "stdout",
     "output_type": "stream",
     "text": [
      "WARNING:tensorflow:From /home/mani/anaconda3/lib/python3.7/site-packages/tensorflow/python/framework/op_def_library.py:263: colocate_with (from tensorflow.python.framework.ops) is deprecated and will be removed in a future version.\n",
      "Instructions for updating:\n",
      "Colocations handled automatically by placer.\n"
     ]
    }
   ],
   "source": [
    "# start building a model\n",
    "model = Sequential()\n",
    "\n",
    "# The model needs to know what input shape it should expect. \n",
    "# For this reason, the first layer in a Sequential model \n",
    "# (and only the first, because following layers can do automatic shape inference)\n",
    "# needs to receive information about its input shape. \n",
    "# you can use input_shape and input_dim to pass the shape of input\n",
    "\n",
    "# output_dim represent the number of nodes need in that layer\n",
    "# here we have 10 nodes\n",
    "\n",
    "model.add(Dense(output_dim, input_dim=input_dim, activation='softmax'))"
   ]
  },
  {
   "cell_type": "code",
   "execution_count": 14,
   "metadata": {
    "colab": {
     "base_uri": "https://localhost:8080/",
     "height": 722
    },
    "colab_type": "code",
    "executionInfo": {
     "elapsed": 43776,
     "status": "ok",
     "timestamp": 1532670180018,
     "user": {
      "displayName": "Applied AI Course",
      "photoUrl": "//lh3.googleusercontent.com/-EsJzSyawCkQ/AAAAAAAAAAI/AAAAAAAAAWk/jhKHALKaHag/s50-c-k-no/photo.jpg",
      "userId": "116292885805316472049"
     },
     "user_tz": -330
    },
    "id": "EVA11VpmQKbt",
    "outputId": "08359e28-6c25-49ff-c806-248b1fa79a25"
   },
   "outputs": [
    {
     "name": "stdout",
     "output_type": "stream",
     "text": [
      "WARNING:tensorflow:From /home/mani/anaconda3/lib/python3.7/site-packages/tensorflow/python/ops/math_ops.py:3066: to_int32 (from tensorflow.python.ops.math_ops) is deprecated and will be removed in a future version.\n",
      "Instructions for updating:\n",
      "Use tf.cast instead.\n",
      "Train on 60000 samples, validate on 10000 samples\n",
      "Epoch 1/20\n",
      "60000/60000 [==============================] - 3s 42us/step - loss: 1.2666 - acc: 0.7034 - val_loss: 0.8095 - val_acc: 0.8326\n",
      "Epoch 2/20\n",
      "60000/60000 [==============================] - 2s 36us/step - loss: 0.7130 - acc: 0.8407 - val_loss: 0.6086 - val_acc: 0.8618\n",
      "Epoch 3/20\n",
      "60000/60000 [==============================] - 2s 37us/step - loss: 0.5858 - acc: 0.8597 - val_loss: 0.5271 - val_acc: 0.8747\n",
      "Epoch 4/20\n",
      "60000/60000 [==============================] - 2s 35us/step - loss: 0.5245 - acc: 0.8702 - val_loss: 0.4814 - val_acc: 0.8788\n",
      "Epoch 5/20\n",
      "60000/60000 [==============================] - 2s 37us/step - loss: 0.4871 - acc: 0.8760 - val_loss: 0.4516 - val_acc: 0.8855\n",
      "Epoch 6/20\n",
      "60000/60000 [==============================] - 2s 35us/step - loss: 0.4613 - acc: 0.8805 - val_loss: 0.4302 - val_acc: 0.8895\n",
      "Epoch 7/20\n",
      "60000/60000 [==============================] - 2s 36us/step - loss: 0.4422 - acc: 0.8837 - val_loss: 0.4141 - val_acc: 0.8918\n",
      "Epoch 8/20\n",
      "60000/60000 [==============================] - 2s 35us/step - loss: 0.4273 - acc: 0.8867 - val_loss: 0.4012 - val_acc: 0.8944\n",
      "Epoch 9/20\n",
      "60000/60000 [==============================] - 2s 35us/step - loss: 0.4153 - acc: 0.8892 - val_loss: 0.3908 - val_acc: 0.8965\n",
      "Epoch 10/20\n",
      "60000/60000 [==============================] - 2s 36us/step - loss: 0.4053 - acc: 0.8916 - val_loss: 0.3819 - val_acc: 0.8975\n",
      "Epoch 11/20\n",
      "60000/60000 [==============================] - 2s 36us/step - loss: 0.3969 - acc: 0.8934 - val_loss: 0.3749 - val_acc: 0.8992\n",
      "Epoch 12/20\n",
      "60000/60000 [==============================] - 2s 36us/step - loss: 0.3897 - acc: 0.8944 - val_loss: 0.3686 - val_acc: 0.8999\n",
      "Epoch 13/20\n",
      "60000/60000 [==============================] - 2s 34us/step - loss: 0.3833 - acc: 0.8960 - val_loss: 0.3629 - val_acc: 0.9021\n",
      "Epoch 14/20\n",
      "60000/60000 [==============================] - 2s 36us/step - loss: 0.3777 - acc: 0.8968 - val_loss: 0.3578 - val_acc: 0.9024\n",
      "Epoch 15/20\n",
      "60000/60000 [==============================] - 2s 36us/step - loss: 0.3727 - acc: 0.8980 - val_loss: 0.3534 - val_acc: 0.9044\n",
      "Epoch 16/20\n",
      "60000/60000 [==============================] - 2s 39us/step - loss: 0.3682 - acc: 0.8991 - val_loss: 0.3492 - val_acc: 0.9050\n",
      "Epoch 17/20\n",
      "60000/60000 [==============================] - 2s 34us/step - loss: 0.3641 - acc: 0.8998 - val_loss: 0.3461 - val_acc: 0.9065\n",
      "Epoch 18/20\n",
      "60000/60000 [==============================] - 2s 38us/step - loss: 0.3603 - acc: 0.9010 - val_loss: 0.3428 - val_acc: 0.9067\n",
      "Epoch 19/20\n",
      "60000/60000 [==============================] - 2s 35us/step - loss: 0.3570 - acc: 0.9014 - val_loss: 0.3394 - val_acc: 0.9083\n",
      "Epoch 20/20\n",
      "60000/60000 [==============================] - 2s 35us/step - loss: 0.3538 - acc: 0.9021 - val_loss: 0.3370 - val_acc: 0.9088\n"
     ]
    }
   ],
   "source": [
    "# Before training a model, you need to configure the learning process, which is done via the compile method\n",
    "\n",
    "# It receives three arguments:\n",
    "# An optimizer. This could be the string identifier of an existing optimizer , https://keras.io/optimizers/\n",
    "# A loss function. This is the objective that the model will try to minimize., https://keras.io/losses/\n",
    "# A list of metrics. For any classification problem you will want to set this to metrics=['accuracy'].  https://keras.io/metrics/\n",
    "\n",
    "          \n",
    "# Note: when using the categorical_crossentropy loss, your targets should be in categorical format \n",
    "# (e.g. if you have 10 classes, the target for each sample should be a 10-dimensional vector that is all-zeros except \n",
    "# for a 1 at the index corresponding to the class of the sample).\n",
    "\n",
    "# that is why we converted out labels into vectors\n",
    "\n",
    "model.compile(optimizer='sgd', loss='categorical_crossentropy', metrics=['accuracy'])\n",
    "\n",
    "# Keras models are trained on Numpy arrays of input data and labels. \n",
    "# For training a model, you will typically use the  fit function\n",
    "\n",
    "# fit(self, x=None, y=None, batch_size=None, epochs=1, verbose=1, callbacks=None, validation_split=0.0, \n",
    "# validation_data=None, shuffle=True, class_weight=None, sample_weight=None, initial_epoch=0, steps_per_epoch=None, \n",
    "# validation_steps=None)\n",
    "\n",
    "# fit() function Trains the model for a fixed number of epochs (iterations on a dataset).\n",
    "\n",
    "# it returns A History object. Its History.history attribute is a record of training loss values and \n",
    "# metrics values at successive epochs, as well as validation loss values and validation metrics values (if applicable).\n",
    "\n",
    "# https://github.com/openai/baselines/issues/20\n",
    "\n",
    "history = model.fit(X_train, Y_train, batch_size=batch_size, epochs=nb_epoch, verbose=1, validation_data=(X_test, Y_test)) \n"
   ]
  },
  {
   "cell_type": "code",
   "execution_count": 15,
   "metadata": {
    "colab": {
     "base_uri": "https://localhost:8080/",
     "height": 50
    },
    "colab_type": "code",
    "executionInfo": {
     "elapsed": 1679,
     "status": "ok",
     "timestamp": 1532671653039,
     "user": {
      "displayName": "Applied AI Course",
      "photoUrl": "//lh3.googleusercontent.com/-EsJzSyawCkQ/AAAAAAAAAAI/AAAAAAAAAWk/jhKHALKaHag/s50-c-k-no/photo.jpg",
      "userId": "116292885805316472049"
     },
     "user_tz": -330
    },
    "id": "HNpwTMHcQKbw",
    "outputId": "d4b72284-e854-4931-9e3c-194cde835168"
   },
   "outputs": [
    {
     "name": "stderr",
     "output_type": "stream",
     "text": [
      "No handles with labels found to put in legend.\n"
     ]
    },
    {
     "name": "stdout",
     "output_type": "stream",
     "text": [
      "Test score: 0.33698355316519735\n",
      "Test accuracy: 0.9088\n"
     ]
    },
    {
     "data": {
      "image/png": "[encoded data removed]",
      "text/plain": [
       "<Figure size 432x288 with 1 Axes>"
      ]
     },
     "metadata": {
      "needs_background": "light"
     },
     "output_type": "display_data"
    }
   ],
   "source": [
    "score = model.evaluate(X_test, Y_test, verbose=0) \n",
    "print('Test score:', score[0]) \n",
    "print('Test accuracy:', score[1])\n",
    "\n",
    "fig,ax = plt.subplots(1,1)\n",
    "ax.set_xlabel('epoch') ; ax.set_ylabel('Categorical Crossentropy Loss')\n",
    "\n",
    "# list of epoch numbers\n",
    "x = list(range(1,nb_epoch+1))\n",
    "\n",
    "# print(history.history.keys())\n",
    "# dict_keys(['val_loss', 'val_acc', 'loss', 'acc'])\n",
    "# history = model_drop.fit(X_train, Y_train, batch_size=batch_size, epochs=nb_epoch, verbose=1, validation_data=(X_test, Y_test))\n",
    "\n",
    "# we will get val_loss and val_acc only when you pass the paramter validation_data\n",
    "# val_loss : validation loss\n",
    "# val_acc : validation accuracy\n",
    "\n",
    "# loss : training loss\n",
    "# acc : train accuracy\n",
    "# for each key in histrory.histrory we will have a list of length equal to number of epochs\n",
    "\n",
    "%matplotlib inline\n",
    "vy = history.history['val_loss']\n",
    "ty = history.history['loss']\n",
    "plt_dynamic(x, vy, ty, ax)"
   ]
  },
  {
   "cell_type": "markdown",
   "metadata": {
    "colab_type": "text",
    "id": "eh4VWYrHQKbz"
   },
   "source": [
    " <h3>  MLP + Sigmoid activation + SGDOptimizer </h3>"
   ]
  },
  {
   "cell_type": "code",
   "execution_count": 16,
   "metadata": {
    "colab": {
     "base_uri": "https://localhost:8080/",
     "height": 234
    },
    "colab_type": "code",
    "executionInfo": {
     "elapsed": 1062,
     "status": "ok",
     "timestamp": 1532672535990,
     "user": {
      "displayName": "Applied AI Course",
      "photoUrl": "//lh3.googleusercontent.com/-EsJzSyawCkQ/AAAAAAAAAAI/AAAAAAAAAWk/jhKHALKaHag/s50-c-k-no/photo.jpg",
      "userId": "116292885805316472049"
     },
     "user_tz": -330
    },
    "id": "7rzbngqHQKbz",
    "outputId": "c7b2d034-a61d-4676-91ca-1e2f0c8a20c0"
   },
   "outputs": [
    {
     "name": "stdout",
     "output_type": "stream",
     "text": [
      "_________________________________________________________________\n",
      "Layer (type)                 Output Shape              Param #   \n",
      "=================================================================\n",
      "dense_2 (Dense)              (None, 512)               401920    \n",
      "_________________________________________________________________\n",
      "dense_3 (Dense)              (None, 128)               65664     \n",
      "_________________________________________________________________\n",
      "dense_4 (Dense)              (None, 10)                1290      \n",
      "=================================================================\n",
      "Total params: 468,874\n",
      "Trainable params: 468,874\n",
      "Non-trainable params: 0\n",
      "_________________________________________________________________\n"
     ]
    }
   ],
   "source": [
    "# Multilayer perceptron\n",
    "\n",
    "model_sigmoid = Sequential()\n",
    "model_sigmoid.add(Dense(512, activation='sigmoid', input_shape=(input_dim,)))\n",
    "model_sigmoid.add(Dense(128, activation='sigmoid'))\n",
    "model_sigmoid.add(Dense(output_dim, activation='softmax'))\n",
    "\n",
    "model_sigmoid.summary()"
   ]
  },
  {
   "cell_type": "code",
   "execution_count": 17,
   "metadata": {
    "colab": {
     "base_uri": "https://localhost:8080/",
     "height": 722
    },
    "colab_type": "code",
    "executionInfo": {
     "elapsed": 50953,
     "status": "ok",
     "timestamp": 1532672588508,
     "user": {
      "displayName": "Applied AI Course",
      "photoUrl": "//lh3.googleusercontent.com/-EsJzSyawCkQ/AAAAAAAAAAI/AAAAAAAAAWk/jhKHALKaHag/s50-c-k-no/photo.jpg",
      "userId": "116292885805316472049"
     },
     "user_tz": -330
    },
    "id": "48vVImSpQKb5",
    "outputId": "989df292-6e16-4eca-cfcb-b193ca431f72"
   },
   "outputs": [
    {
     "name": "stdout",
     "output_type": "stream",
     "text": [
      "Train on 60000 samples, validate on 10000 samples\n",
      "Epoch 1/20\n",
      "60000/60000 [==============================] - 10s 162us/step - loss: 2.2794 - acc: 0.1951 - val_loss: 2.2292 - val_acc: 0.3361\n",
      "Epoch 2/20\n",
      "60000/60000 [==============================] - 9s 150us/step - loss: 2.1858 - acc: 0.4246 - val_loss: 2.1325 - val_acc: 0.5294\n",
      "Epoch 3/20\n",
      "60000/60000 [==============================] - 9s 151us/step - loss: 2.0730 - acc: 0.5662 - val_loss: 1.9964 - val_acc: 0.5935\n",
      "Epoch 4/20\n",
      "60000/60000 [==============================] - 9s 150us/step - loss: 1.9111 - acc: 0.6298 - val_loss: 1.8010 - val_acc: 0.6589\n",
      "Epoch 5/20\n",
      "60000/60000 [==============================] - 9s 151us/step - loss: 1.6959 - acc: 0.6768 - val_loss: 1.5627 - val_acc: 0.7099\n",
      "Epoch 6/20\n",
      "60000/60000 [==============================] - 9s 147us/step - loss: 1.4593 - acc: 0.7168 - val_loss: 1.3303 - val_acc: 0.7494\n",
      "Epoch 7/20\n",
      "60000/60000 [==============================] - 9s 155us/step - loss: 1.2460 - acc: 0.7492 - val_loss: 1.1362 - val_acc: 0.7755\n",
      "Epoch 8/20\n",
      "60000/60000 [==============================] - 9s 156us/step - loss: 1.0760 - acc: 0.7741 - val_loss: 0.9884 - val_acc: 0.7924\n",
      "Epoch 9/20\n",
      "60000/60000 [==============================] - 9s 155us/step - loss: 0.9467 - acc: 0.7918 - val_loss: 0.8762 - val_acc: 0.8061\n",
      "Epoch 10/20\n",
      "60000/60000 [==============================] - 10s 159us/step - loss: 0.8483 - acc: 0.8063 - val_loss: 0.7907 - val_acc: 0.8144\n",
      "Epoch 11/20\n",
      "60000/60000 [==============================] - 10s 164us/step - loss: 0.7721 - acc: 0.8182 - val_loss: 0.7229 - val_acc: 0.8273\n",
      "Epoch 12/20\n",
      "60000/60000 [==============================] - 10s 166us/step - loss: 0.7118 - acc: 0.8280 - val_loss: 0.6697 - val_acc: 0.8355\n",
      "Epoch 13/20\n",
      "60000/60000 [==============================] - 10s 168us/step - loss: 0.6635 - acc: 0.8356 - val_loss: 0.6258 - val_acc: 0.8455\n",
      "Epoch 14/20\n",
      "60000/60000 [==============================] - 10s 171us/step - loss: 0.6238 - acc: 0.8424 - val_loss: 0.5901 - val_acc: 0.8518\n",
      "Epoch 15/20\n",
      "60000/60000 [==============================] - 11s 175us/step - loss: 0.5910 - acc: 0.8491 - val_loss: 0.5600 - val_acc: 0.8568\n",
      "Epoch 16/20\n",
      "60000/60000 [==============================] - 10s 174us/step - loss: 0.5634 - acc: 0.8544 - val_loss: 0.5350 - val_acc: 0.8611\n",
      "Epoch 17/20\n",
      "60000/60000 [==============================] - 11s 176us/step - loss: 0.5398 - acc: 0.8581 - val_loss: 0.5127 - val_acc: 0.8666\n",
      "Epoch 18/20\n",
      "60000/60000 [==============================] - 10s 171us/step - loss: 0.5195 - acc: 0.8626 - val_loss: 0.4938 - val_acc: 0.8709\n",
      "Epoch 19/20\n",
      "60000/60000 [==============================] - 10s 174us/step - loss: 0.5016 - acc: 0.8667 - val_loss: 0.4769 - val_acc: 0.8745\n",
      "Epoch 20/20\n",
      "60000/60000 [==============================] - 11s 180us/step - loss: 0.4859 - acc: 0.8700 - val_loss: 0.4630 - val_acc: 0.8784\n"
     ]
    }
   ],
   "source": [
    "model_sigmoid.compile(optimizer='sgd', loss='categorical_crossentropy', metrics=['accuracy'])\n",
    "\n",
    "history = model_sigmoid.fit(X_train, Y_train, batch_size=batch_size, epochs=nb_epoch, verbose=1, validation_data=(X_test, Y_test))"
   ]
  },
  {
   "cell_type": "code",
   "execution_count": 18,
   "metadata": {
    "colab": {
     "base_uri": "https://localhost:8080/",
     "height": 50
    },
    "colab_type": "code",
    "executionInfo": {
     "elapsed": 2060,
     "status": "ok",
     "timestamp": 1532672590601,
     "user": {
      "displayName": "Applied AI Course",
      "photoUrl": "//lh3.googleusercontent.com/-EsJzSyawCkQ/AAAAAAAAAAI/AAAAAAAAAWk/jhKHALKaHag/s50-c-k-no/photo.jpg",
      "userId": "116292885805316472049"
     },
     "user_tz": -330
    },
    "id": "6ffjzr8hQKb8",
    "outputId": "8caf663e-e8cc-4c1e-9fee-278ab9591642"
   },
   "outputs": [
    {
     "name": "stderr",
     "output_type": "stream",
     "text": [
      "No handles with labels found to put in legend.\n"
     ]
    },
    {
     "name": "stdout",
     "output_type": "stream",
     "text": [
      "Test score: 0.46295539247989653\n",
      "Test accuracy: 0.8784\n"
     ]
    },
    {
     "data": {
      "image/png": "[encoded data removed]",
      "text/plain": [
       "<Figure size 432x288 with 1 Axes>"
      ]
     },
     "metadata": {
      "needs_background": "light"
     },
     "output_type": "display_data"
    }
   ],
   "source": [
    "score = model_sigmoid.evaluate(X_test, Y_test, verbose=0) \n",
    "print('Test score:', score[0]) \n",
    "print('Test accuracy:', score[1])\n",
    "\n",
    "fig,ax = plt.subplots(1,1)\n",
    "ax.set_xlabel('epoch') ; ax.set_ylabel('Categorical Crossentropy Loss')\n",
    "\n",
    "# list of epoch numbers\n",
    "x = list(range(1,nb_epoch+1))\n",
    "\n",
    "# print(history.history.keys())\n",
    "# dict_keys(['val_loss', 'val_acc', 'loss', 'acc'])\n",
    "# history = model_drop.fit(X_train, Y_train, batch_size=batch_size, epochs=nb_epoch, verbose=1, validation_data=(X_test, Y_test))\n",
    "\n",
    "# we will get val_loss and val_acc only when you pass the paramter validation_data\n",
    "# val_loss : validation loss\n",
    "# val_acc : validation accuracy\n",
    "\n",
    "# loss : training loss\n",
    "# acc : train accuracy\n",
    "# for each key in histrory.histrory we will have a list of length equal to number of epochs\n",
    "\n",
    "%matplotlib inline\n",
    "vy = history.history['val_loss']\n",
    "ty = history.history['loss']\n",
    "plt_dynamic(x, vy, ty, ax)"
   ]
  },
  {
   "cell_type": "code",
   "execution_count": 19,
   "metadata": {
    "colab": {
     "base_uri": "https://localhost:8080/",
     "height": 84
    },
    "colab_type": "code",
    "executionInfo": {
     "elapsed": 2682,
     "status": "ok",
     "timestamp": 1532672813648,
     "user": {
      "displayName": "Applied AI Course",
      "photoUrl": "//lh3.googleusercontent.com/-EsJzSyawCkQ/AAAAAAAAAAI/AAAAAAAAAWk/jhKHALKaHag/s50-c-k-no/photo.jpg",
      "userId": "116292885805316472049"
     },
     "user_tz": -330
    },
    "id": "Ejn01XXdQKb-",
    "outputId": "d301a744-1e86-4c2c-8e86-ea233376d0b7"
   },
   "outputs": [
    {
     "data": {
      "image/png": "[encoded data removed]",
      "text/plain": [
       "<Figure size 432x288 with 3 Axes>"
      ]
     },
     "metadata": {
      "needs_background": "light"
     },
     "output_type": "display_data"
    }
   ],
   "source": [
    "w_after = model_sigmoid.get_weights()\n",
    "\n",
    "%matplotlib inline\n",
    "\n",
    "h1_w = w_after[0].flatten().reshape(-1,1)\n",
    "h2_w = w_after[2].flatten().reshape(-1,1)\n",
    "out_w = w_after[4].flatten().reshape(-1,1)\n",
    "\n",
    "\n",
    "fig = plt.figure()\n",
    "plt.title(\"Weight matrices after model trained\")\n",
    "plt.subplot(1, 3, 1)\n",
    "plt.title(\"Trained model Weights\")\n",
    "ax = sns.violinplot(y=h1_w,color='b')\n",
    "plt.xlabel('Hidden Layer 1')\n",
    "\n",
    "plt.subplot(1, 3, 2)\n",
    "plt.title(\"Trained model Weights\")\n",
    "ax = sns.violinplot(y=h2_w, color='r')\n",
    "plt.xlabel('Hidden Layer 2 ')\n",
    "\n",
    "plt.subplot(1, 3, 3)\n",
    "plt.title(\"Trained model Weights\")\n",
    "ax = sns.violinplot(y=out_w,color='y')\n",
    "plt.xlabel('Output Layer ')\n",
    "plt.show()"
   ]
  },
  {
   "cell_type": "markdown",
   "metadata": {
    "colab_type": "text",
    "id": "ExLv_CAeQKcA"
   },
   "source": [
    "<h2>MLP + Sigmoid activation + ADAM </h2>"
   ]
  },
  {
   "cell_type": "code",
   "execution_count": 20,
   "metadata": {
    "colab": {
     "base_uri": "https://localhost:8080/",
     "height": 940
    },
    "colab_type": "code",
    "executionInfo": {
     "elapsed": 62441,
     "status": "ok",
     "timestamp": 1532672891495,
     "user": {
      "displayName": "Applied AI Course",
      "photoUrl": "//lh3.googleusercontent.com/-EsJzSyawCkQ/AAAAAAAAAAI/AAAAAAAAAWk/jhKHALKaHag/s50-c-k-no/photo.jpg",
      "userId": "116292885805316472049"
     },
     "user_tz": -330
    },
    "id": "w9BtnNGaQKcD",
    "outputId": "9077226e-e62a-440f-fc87-439b21e31d70"
   },
   "outputs": [
    {
     "name": "stdout",
     "output_type": "stream",
     "text": [
      "_________________________________________________________________\n",
      "Layer (type)                 Output Shape              Param #   \n",
      "=================================================================\n",
      "dense_5 (Dense)              (None, 512)               401920    \n",
      "_________________________________________________________________\n",
      "dense_6 (Dense)              (None, 128)               65664     \n",
      "_________________________________________________________________\n",
      "dense_7 (Dense)              (None, 10)                1290      \n",
      "=================================================================\n",
      "Total params: 468,874\n",
      "Trainable params: 468,874\n",
      "Non-trainable params: 0\n",
      "_________________________________________________________________\n",
      "Train on 60000 samples, validate on 10000 samples\n",
      "Epoch 1/20\n",
      "60000/60000 [==============================] - 13s 210us/step - loss: 0.5258 - acc: 0.8630 - val_loss: 0.2532 - val_acc: 0.9271\n",
      "Epoch 2/20\n",
      "60000/60000 [==============================] - 13s 216us/step - loss: 0.2198 - acc: 0.9356 - val_loss: 0.1829 - val_acc: 0.9458\n",
      "Epoch 3/20\n",
      "60000/60000 [==============================] - 11s 178us/step - loss: 0.1624 - acc: 0.9514 - val_loss: 0.1414 - val_acc: 0.9572\n",
      "Epoch 4/20\n",
      "60000/60000 [==============================] - 9s 143us/step - loss: 0.1258 - acc: 0.9633 - val_loss: 0.1197 - val_acc: 0.9638\n",
      "Epoch 5/20\n",
      "60000/60000 [==============================] - 9s 146us/step - loss: 0.0993 - acc: 0.9703 - val_loss: 0.1001 - val_acc: 0.9688\n",
      "Epoch 6/20\n",
      "60000/60000 [==============================] - 10s 163us/step - loss: 0.0786 - acc: 0.9769 - val_loss: 0.0955 - val_acc: 0.9709\n",
      "Epoch 7/20\n",
      "60000/60000 [==============================] - 9s 153us/step - loss: 0.0643 - acc: 0.9810 - val_loss: 0.0803 - val_acc: 0.9745\n",
      "Epoch 8/20\n",
      "60000/60000 [==============================] - 9s 153us/step - loss: 0.0511 - acc: 0.9850 - val_loss: 0.0770 - val_acc: 0.9751\n",
      "Epoch 9/20\n",
      "60000/60000 [==============================] - 9s 146us/step - loss: 0.0412 - acc: 0.9881 - val_loss: 0.0712 - val_acc: 0.9780\n",
      "Epoch 10/20\n",
      "60000/60000 [==============================] - 11s 177us/step - loss: 0.0344 - acc: 0.9900 - val_loss: 0.0696 - val_acc: 0.9783\n",
      "Epoch 11/20\n",
      "60000/60000 [==============================] - 11s 180us/step - loss: 0.0267 - acc: 0.9927 - val_loss: 0.0673 - val_acc: 0.9782\n",
      "Epoch 12/20\n",
      "60000/60000 [==============================] - 11s 177us/step - loss: 0.0219 - acc: 0.9942 - val_loss: 0.0690 - val_acc: 0.9783\n",
      "Epoch 13/20\n",
      "60000/60000 [==============================] - 11s 185us/step - loss: 0.0178 - acc: 0.9957 - val_loss: 0.0631 - val_acc: 0.9803\n",
      "Epoch 14/20\n",
      "60000/60000 [==============================] - 12s 208us/step - loss: 0.0139 - acc: 0.9967 - val_loss: 0.0647 - val_acc: 0.9807\n",
      "Epoch 15/20\n",
      "60000/60000 [==============================] - 13s 211us/step - loss: 0.0102 - acc: 0.9980 - val_loss: 0.0613 - val_acc: 0.9821\n",
      "Epoch 16/20\n",
      "60000/60000 [==============================] - 9s 149us/step - loss: 0.0083 - acc: 0.9984 - val_loss: 0.0635 - val_acc: 0.9818\n",
      "Epoch 17/20\n",
      "60000/60000 [==============================] - 9s 151us/step - loss: 0.0075 - acc: 0.9985 - val_loss: 0.0705 - val_acc: 0.9808\n",
      "Epoch 18/20\n",
      "60000/60000 [==============================] - 9s 152us/step - loss: 0.0057 - acc: 0.9990 - val_loss: 0.0723 - val_acc: 0.9797\n",
      "Epoch 19/20\n",
      "60000/60000 [==============================] - 9s 155us/step - loss: 0.0050 - acc: 0.9989 - val_loss: 0.0724 - val_acc: 0.9811\n",
      "Epoch 20/20\n",
      "60000/60000 [==============================] - 9s 158us/step - loss: 0.0042 - acc: 0.9990 - val_loss: 0.0707 - val_acc: 0.9816\n"
     ]
    }
   ],
   "source": [
    "model_sigmoid = Sequential()\n",
    "model_sigmoid.add(Dense(512, activation='sigmoid', input_shape=(input_dim,)))\n",
    "model_sigmoid.add(Dense(128, activation='sigmoid'))\n",
    "model_sigmoid.add(Dense(output_dim, activation='softmax'))\n",
    "\n",
    "model_sigmoid.summary()\n",
    "\n",
    "model_sigmoid.compile(optimizer='adam', loss='categorical_crossentropy', metrics=['accuracy'])\n",
    "\n",
    "history = model_sigmoid.fit(X_train, Y_train, batch_size=batch_size, epochs=nb_epoch, verbose=1, validation_data=(X_test, Y_test))"
   ]
  },
  {
   "cell_type": "code",
   "execution_count": 21,
   "metadata": {
    "colab": {},
    "colab_type": "code",
    "id": "AslSnqQ2QKcF",
    "outputId": "3bf10216-1082-42f1-dbb5-2910e779d524"
   },
   "outputs": [
    {
     "name": "stderr",
     "output_type": "stream",
     "text": [
      "No handles with labels found to put in legend.\n"
     ]
    },
    {
     "name": "stdout",
     "output_type": "stream",
     "text": [
      "Test score: 0.07072583881166356\n",
      "Test accuracy: 0.9816\n"
     ]
    },
    {
     "data": {
      "image/png": "[encoded data removed]",
      "text/plain": [
       "<Figure size 432x288 with 1 Axes>"
      ]
     },
     "metadata": {
      "needs_background": "light"
     },
     "output_type": "display_data"
    }
   ],
   "source": [
    "score = model_sigmoid.evaluate(X_test, Y_test, verbose=0) \n",
    "print('Test score:', score[0]) \n",
    "print('Test accuracy:', score[1])\n",
    "\n",
    "fig,ax = plt.subplots(1,1)\n",
    "ax.set_xlabel('epoch') ; ax.set_ylabel('Categorical Crossentropy Loss')\n",
    "\n",
    "# list of epoch numbers\n",
    "x = list(range(1,nb_epoch+1))\n",
    "\n",
    "# print(history.history.keys())\n",
    "# dict_keys(['val_loss', 'val_acc', 'loss', 'acc'])\n",
    "# history = model_drop.fit(X_train, Y_train, batch_size=batch_size, epochs=nb_epoch, verbose=1, validation_data=(X_test, Y_test))\n",
    "\n",
    "# we will get val_loss and val_acc only when you pass the paramter validation_data\n",
    "# val_loss : validation loss\n",
    "# val_acc : validation accuracy\n",
    "\n",
    "# loss : training loss\n",
    "# acc : train accuracy\n",
    "# for each key in histrory.histrory we will have a list of length equal to number of epochs\n",
    "%matplotlib inline\n",
    "\n",
    "vy = history.history['val_loss']\n",
    "ty = history.history['loss']\n",
    "plt_dynamic(x, vy, ty, ax)"
   ]
  },
  {
   "cell_type": "code",
   "execution_count": 22,
   "metadata": {
    "colab": {
     "base_uri": "https://localhost:8080/",
     "height": 84
    },
    "colab_type": "code",
    "executionInfo": {
     "elapsed": 2602,
     "status": "ok",
     "timestamp": 1532674029296,
     "user": {
      "displayName": "Applied AI Course",
      "photoUrl": "//lh3.googleusercontent.com/-EsJzSyawCkQ/AAAAAAAAAAI/AAAAAAAAAWk/jhKHALKaHag/s50-c-k-no/photo.jpg",
      "userId": "116292885805316472049"
     },
     "user_tz": -330
    },
    "id": "HEp-AZCSQKcI",
    "outputId": "f1416fcd-c07c-43ec-906e-2a775972e4a7"
   },
   "outputs": [
    {
     "data": {
      "image/png": "[encoded data removed]",
      "text/plain": [
       "<Figure size 432x288 with 3 Axes>"
      ]
     },
     "metadata": {
      "needs_background": "light"
     },
     "output_type": "display_data"
    }
   ],
   "source": [
    "w_after = model_sigmoid.get_weights()\n",
    "\n",
    "%matplotlib inline\n",
    "\n",
    "h1_w = w_after[0].flatten().reshape(-1,1)\n",
    "h2_w = w_after[2].flatten().reshape(-1,1)\n",
    "out_w = w_after[4].flatten().reshape(-1,1)\n",
    "\n",
    "\n",
    "fig = plt.figure()\n",
    "plt.title(\"Weight matrices after model trained\")\n",
    "plt.subplot(1, 3, 1)\n",
    "plt.title(\"Trained model Weights\")\n",
    "ax = sns.violinplot(y=h1_w,color='b')\n",
    "plt.xlabel('Hidden Layer 1')\n",
    "\n",
    "plt.subplot(1, 3, 2)\n",
    "plt.title(\"Trained model Weights\")\n",
    "ax = sns.violinplot(y=h2_w, color='r')\n",
    "plt.xlabel('Hidden Layer 2 ')\n",
    "\n",
    "plt.subplot(1, 3, 3)\n",
    "plt.title(\"Trained model Weights\")\n",
    "ax = sns.violinplot(y=out_w,color='y')\n",
    "plt.xlabel('Output Layer ')\n",
    "plt.show()"
   ]
  },
  {
   "cell_type": "markdown",
   "metadata": {
    "colab_type": "text",
    "id": "bRVrzqvSQKcL"
   },
   "source": [
    "<h2> MLP + ReLU +SGD </h2>"
   ]
  },
  {
   "cell_type": "code",
   "execution_count": 23,
   "metadata": {
    "colab": {},
    "colab_type": "code",
    "id": "O8lG2jzmQKcM",
    "outputId": "72a68439-c243-4569-86b9-f636757c60f7"
   },
   "outputs": [
    {
     "name": "stdout",
     "output_type": "stream",
     "text": [
      "_________________________________________________________________\n",
      "Layer (type)                 Output Shape              Param #   \n",
      "=================================================================\n",
      "dense_8 (Dense)              (None, 512)               401920    \n",
      "_________________________________________________________________\n",
      "dense_9 (Dense)              (None, 128)               65664     \n",
      "_________________________________________________________________\n",
      "dense_10 (Dense)             (None, 10)                1290      \n",
      "=================================================================\n",
      "Total params: 468,874\n",
      "Trainable params: 468,874\n",
      "Non-trainable params: 0\n",
      "_________________________________________________________________\n"
     ]
    }
   ],
   "source": [
    "# Multilayer perceptron\n",
    "\n",
    "# https://arxiv.org/pdf/1707.09725.pdf#page=95\n",
    "# for relu layers\n",
    "# If we sample weights from a normal distribution N(0,σ) we satisfy this condition with σ=√(2/(ni). \n",
    "# h1 =>  σ=√(2/(fan_in) = 0.062  => N(0,σ) = N(0,0.062)\n",
    "# h2 =>  σ=√(2/(fan_in) = 0.125  => N(0,σ) = N(0,0.125)\n",
    "# out =>  σ=√(2/(fan_in+1) = 0.120  => N(0,σ) = N(0,0.120)\n",
    "\n",
    "model_relu = Sequential()\n",
    "model_relu.add(Dense(512, activation='relu', input_shape=(input_dim,), kernel_initializer=RandomNormal(mean=0.0, stddev=0.062, seed=None)))\n",
    "model_relu.add(Dense(128, activation='relu', kernel_initializer=RandomNormal(mean=0.0, stddev=0.125, seed=None)) )\n",
    "model_relu.add(Dense(output_dim, activation='softmax'))\n",
    "\n",
    "model_relu.summary()"
   ]
  },
  {
   "cell_type": "code",
   "execution_count": 24,
   "metadata": {
    "colab": {},
    "colab_type": "code",
    "id": "QhtoviFKQKcP",
    "outputId": "e25de732-19a7-4178-d784-411170e6d810"
   },
   "outputs": [
    {
     "name": "stdout",
     "output_type": "stream",
     "text": [
      "Train on 60000 samples, validate on 10000 samples\n",
      "Epoch 1/20\n",
      "60000/60000 [==============================] - 7s 124us/step - loss: 0.7747 - acc: 0.7834 - val_loss: 0.3789 - val_acc: 0.8939\n",
      "Epoch 2/20\n",
      "60000/60000 [==============================] - 7s 115us/step - loss: 0.3513 - acc: 0.9001 - val_loss: 0.2906 - val_acc: 0.9166\n",
      "Epoch 3/20\n",
      "60000/60000 [==============================] - 7s 114us/step - loss: 0.2876 - acc: 0.9177 - val_loss: 0.2540 - val_acc: 0.9275\n",
      "Epoch 4/20\n",
      "60000/60000 [==============================] - 7s 116us/step - loss: 0.2534 - acc: 0.9276 - val_loss: 0.2295 - val_acc: 0.9345\n",
      "Epoch 5/20\n",
      "60000/60000 [==============================] - 7s 117us/step - loss: 0.2298 - acc: 0.9345 - val_loss: 0.2118 - val_acc: 0.9382\n",
      "Epoch 6/20\n",
      "60000/60000 [==============================] - 7s 119us/step - loss: 0.2117 - acc: 0.9399 - val_loss: 0.2004 - val_acc: 0.9412\n",
      "Epoch 7/20\n",
      "60000/60000 [==============================] - 7s 121us/step - loss: 0.1971 - acc: 0.9440 - val_loss: 0.1885 - val_acc: 0.9444\n",
      "Epoch 8/20\n",
      "60000/60000 [==============================] - 7s 125us/step - loss: 0.1848 - acc: 0.9477 - val_loss: 0.1784 - val_acc: 0.9485\n",
      "Epoch 9/20\n",
      "60000/60000 [==============================] - 7s 122us/step - loss: 0.1740 - acc: 0.9511 - val_loss: 0.1683 - val_acc: 0.9513\n",
      "Epoch 10/20\n",
      "60000/60000 [==============================] - 7s 124us/step - loss: 0.1648 - acc: 0.9536 - val_loss: 0.1622 - val_acc: 0.9530\n",
      "Epoch 11/20\n",
      "60000/60000 [==============================] - 7s 125us/step - loss: 0.1564 - acc: 0.9558 - val_loss: 0.1559 - val_acc: 0.9532\n",
      "Epoch 12/20\n",
      "60000/60000 [==============================] - 8s 131us/step - loss: 0.1491 - acc: 0.9583 - val_loss: 0.1493 - val_acc: 0.9563\n",
      "Epoch 13/20\n",
      "60000/60000 [==============================] - 8s 129us/step - loss: 0.1423 - acc: 0.9607 - val_loss: 0.1441 - val_acc: 0.9576\n",
      "Epoch 14/20\n",
      "60000/60000 [==============================] - 8s 131us/step - loss: 0.1360 - acc: 0.9619 - val_loss: 0.1410 - val_acc: 0.9585\n",
      "Epoch 15/20\n",
      "60000/60000 [==============================] - 8s 131us/step - loss: 0.1303 - acc: 0.9642 - val_loss: 0.1362 - val_acc: 0.9597\n",
      "Epoch 16/20\n",
      "60000/60000 [==============================] - 8s 137us/step - loss: 0.1252 - acc: 0.9654 - val_loss: 0.1330 - val_acc: 0.9602\n",
      "Epoch 17/20\n",
      "60000/60000 [==============================] - 8s 141us/step - loss: 0.1203 - acc: 0.9669 - val_loss: 0.1283 - val_acc: 0.9615\n",
      "Epoch 18/20\n",
      "60000/60000 [==============================] - 9s 142us/step - loss: 0.1159 - acc: 0.9678 - val_loss: 0.1250 - val_acc: 0.9636\n",
      "Epoch 19/20\n",
      "60000/60000 [==============================] - 9s 144us/step - loss: 0.1118 - acc: 0.9695 - val_loss: 0.1219 - val_acc: 0.9636\n",
      "Epoch 20/20\n",
      "60000/60000 [==============================] - 9s 144us/step - loss: 0.1078 - acc: 0.9705 - val_loss: 0.1203 - val_acc: 0.9644\n"
     ]
    }
   ],
   "source": [
    "model_relu.compile(optimizer='sgd', loss='categorical_crossentropy', metrics=['accuracy'])\n",
    "\n",
    "history = model_relu.fit(X_train, Y_train, batch_size=batch_size, epochs=nb_epoch, verbose=1, validation_data=(X_test, Y_test))"
   ]
  },
  {
   "cell_type": "code",
   "execution_count": 25,
   "metadata": {
    "colab": {},
    "colab_type": "code",
    "id": "0rKzoKxgQKcS",
    "outputId": "7893c859-5d0d-4cbb-ef05-d7dd854e325c"
   },
   "outputs": [
    {
     "name": "stderr",
     "output_type": "stream",
     "text": [
      "No handles with labels found to put in legend.\n"
     ]
    },
    {
     "name": "stdout",
     "output_type": "stream",
     "text": [
      "Test score: 0.1202577665105462\n",
      "Test accuracy: 0.9644\n"
     ]
    },
    {
     "data": {
      "image/png": "[encoded data removed]",
      "text/plain": [
       "<Figure size 432x288 with 1 Axes>"
      ]
     },
     "metadata": {
      "needs_background": "light"
     },
     "output_type": "display_data"
    }
   ],
   "source": [
    "score = model_relu.evaluate(X_test, Y_test, verbose=0) \n",
    "print('Test score:', score[0]) \n",
    "print('Test accuracy:', score[1])\n",
    "\n",
    "fig,ax = plt.subplots(1,1)\n",
    "ax.set_xlabel('epoch') ; ax.set_ylabel('Categorical Crossentropy Loss')\n",
    "\n",
    "# list of epoch numbers\n",
    "x = list(range(1,nb_epoch+1))\n",
    "\n",
    "# print(history.history.keys())\n",
    "# dict_keys(['val_loss', 'val_acc', 'loss', 'acc'])\n",
    "# history = model_drop.fit(X_train, Y_train, batch_size=batch_size, epochs=nb_epoch, verbose=1, validation_data=(X_test, Y_test))\n",
    "\n",
    "# we will get val_loss and val_acc only when you pass the paramter validation_data\n",
    "# val_loss : validation loss\n",
    "# val_acc : validation accuracy\n",
    "\n",
    "# loss : training loss\n",
    "# acc : train accuracy\n",
    "# for each key in histrory.histrory we will have a list of length equal to number of epochs\n",
    "\n",
    "%matplotlib inline\n",
    "\n",
    "vy = history.history['val_loss']\n",
    "ty = history.history['loss']\n",
    "plt_dynamic(x, vy, ty, ax)"
   ]
  },
  {
   "cell_type": "code",
   "execution_count": 26,
   "metadata": {
    "colab": {},
    "colab_type": "code",
    "id": "z386BnBlQKcV",
    "outputId": "dbfc21b4-4c17-4c29-86f0-9ea53c26d112"
   },
   "outputs": [
    {
     "data": {
      "image/png": "[encoded data removed]",
      "text/plain": [
       "<Figure size 432x288 with 3 Axes>"
      ]
     },
     "metadata": {
      "needs_background": "light"
     },
     "output_type": "display_data"
    }
   ],
   "source": [
    "w_after = model_relu.get_weights()\n",
    "\n",
    "%matplotlib inline\n",
    "\n",
    "h1_w = w_after[0].flatten().reshape(-1,1)\n",
    "h2_w = w_after[2].flatten().reshape(-1,1)\n",
    "out_w = w_after[4].flatten().reshape(-1,1)\n",
    "\n",
    "\n",
    "fig = plt.figure()\n",
    "plt.title(\"Weight matrices after model trained\")\n",
    "plt.subplot(1, 3, 1)\n",
    "plt.title(\"Trained model Weights\")\n",
    "ax = sns.violinplot(y=h1_w,color='b')\n",
    "plt.xlabel('Hidden Layer 1')\n",
    "\n",
    "plt.subplot(1, 3, 2)\n",
    "plt.title(\"Trained model Weights\")\n",
    "ax = sns.violinplot(y=h2_w, color='r')\n",
    "plt.xlabel('Hidden Layer 2 ')\n",
    "\n",
    "plt.subplot(1, 3, 3)\n",
    "plt.title(\"Trained model Weights\")\n",
    "ax = sns.violinplot(y=out_w,color='y')\n",
    "plt.xlabel('Output Layer ')\n",
    "plt.show()"
   ]
  },
  {
   "cell_type": "markdown",
   "metadata": {
    "colab_type": "text",
    "id": "9ccmfiVGQKcc"
   },
   "source": [
    "<h2> MLP + ReLU + ADAM </h2>"
   ]
  },
  {
   "cell_type": "code",
   "execution_count": 27,
   "metadata": {
    "colab": {},
    "colab_type": "code",
    "id": "-CtwrinkQKcc",
    "outputId": "c46c7912-e77b-48c5-a506-b90cc13ba9f2"
   },
   "outputs": [
    {
     "name": "stdout",
     "output_type": "stream",
     "text": [
      "_________________________________________________________________\n",
      "Layer (type)                 Output Shape              Param #   \n",
      "=================================================================\n",
      "dense_11 (Dense)             (None, 512)               401920    \n",
      "_________________________________________________________________\n",
      "dense_12 (Dense)             (None, 128)               65664     \n",
      "_________________________________________________________________\n",
      "dense_13 (Dense)             (None, 10)                1290      \n",
      "=================================================================\n",
      "Total params: 468,874\n",
      "Trainable params: 468,874\n",
      "Non-trainable params: 0\n",
      "_________________________________________________________________\n",
      "None\n",
      "Train on 60000 samples, validate on 10000 samples\n",
      "Epoch 1/20\n",
      "60000/60000 [==============================] - 8s 138us/step - loss: 0.2282 - acc: 0.9326 - val_loss: 0.1125 - val_acc: 0.9657\n",
      "Epoch 2/20\n",
      "60000/60000 [==============================] - 7s 123us/step - loss: 0.0845 - acc: 0.9748 - val_loss: 0.0871 - val_acc: 0.9742\n",
      "Epoch 3/20\n",
      "60000/60000 [==============================] - 7s 120us/step - loss: 0.0538 - acc: 0.9836 - val_loss: 0.0861 - val_acc: 0.9733\n",
      "Epoch 4/20\n",
      "60000/60000 [==============================] - 7s 120us/step - loss: 0.0367 - acc: 0.9885 - val_loss: 0.0764 - val_acc: 0.9766\n",
      "Epoch 5/20\n",
      "60000/60000 [==============================] - 8s 129us/step - loss: 0.0258 - acc: 0.9923 - val_loss: 0.0802 - val_acc: 0.9769\n",
      "Epoch 6/20\n",
      "60000/60000 [==============================] - 8s 126us/step - loss: 0.0204 - acc: 0.9931 - val_loss: 0.0740 - val_acc: 0.9791\n",
      "Epoch 7/20\n",
      "60000/60000 [==============================] - 8s 130us/step - loss: 0.0173 - acc: 0.9942 - val_loss: 0.0869 - val_acc: 0.9753\n",
      "Epoch 8/20\n",
      "60000/60000 [==============================] - 8s 128us/step - loss: 0.0152 - acc: 0.9952 - val_loss: 0.0838 - val_acc: 0.9762\n",
      "Epoch 9/20\n",
      "60000/60000 [==============================] - 8s 128us/step - loss: 0.0142 - acc: 0.9952 - val_loss: 0.0796 - val_acc: 0.9802\n",
      "Epoch 10/20\n",
      "60000/60000 [==============================] - 8s 135us/step - loss: 0.0122 - acc: 0.9958 - val_loss: 0.0904 - val_acc: 0.9769\n",
      "Epoch 11/20\n",
      "60000/60000 [==============================] - 8s 131us/step - loss: 0.0109 - acc: 0.9963 - val_loss: 0.0836 - val_acc: 0.9807\n",
      "Epoch 12/20\n",
      "60000/60000 [==============================] - 8s 139us/step - loss: 0.0107 - acc: 0.9962 - val_loss: 0.0780 - val_acc: 0.9798\n",
      "Epoch 13/20\n",
      "60000/60000 [==============================] - 8s 139us/step - loss: 0.0087 - acc: 0.9971 - val_loss: 0.0953 - val_acc: 0.9790\n",
      "Epoch 14/20\n",
      "60000/60000 [==============================] - 8s 140us/step - loss: 0.0115 - acc: 0.9965 - val_loss: 0.0868 - val_acc: 0.9800\n",
      "Epoch 15/20\n",
      "60000/60000 [==============================] - 8s 140us/step - loss: 0.0096 - acc: 0.9968 - val_loss: 0.0811 - val_acc: 0.9810\n",
      "Epoch 16/20\n",
      "60000/60000 [==============================] - 9s 145us/step - loss: 0.0039 - acc: 0.9986 - val_loss: 0.0766 - val_acc: 0.9828\n",
      "Epoch 17/20\n",
      "60000/60000 [==============================] - 9s 149us/step - loss: 0.0096 - acc: 0.9968 - val_loss: 0.0942 - val_acc: 0.9801\n",
      "Epoch 18/20\n",
      "60000/60000 [==============================] - 9s 150us/step - loss: 0.0109 - acc: 0.9963 - val_loss: 0.0917 - val_acc: 0.9811\n",
      "Epoch 19/20\n",
      "60000/60000 [==============================] - 9s 152us/step - loss: 0.0065 - acc: 0.9979 - val_loss: 0.1092 - val_acc: 0.9797\n",
      "Epoch 20/20\n",
      "60000/60000 [==============================] - 9s 152us/step - loss: 0.0059 - acc: 0.9980 - val_loss: 0.0973 - val_acc: 0.9823\n"
     ]
    }
   ],
   "source": [
    "model_relu = Sequential()\n",
    "model_relu.add(Dense(512, activation='relu', input_shape=(input_dim,), kernel_initializer=RandomNormal(mean=0.0, stddev=0.062, seed=None)))\n",
    "model_relu.add(Dense(128, activation='relu', kernel_initializer=RandomNormal(mean=0.0, stddev=0.125, seed=None)) )\n",
    "model_relu.add(Dense(output_dim, activation='softmax'))\n",
    "\n",
    "print(model_relu.summary())\n",
    "\n",
    "model_relu.compile(optimizer='adam', loss='categorical_crossentropy', metrics=['accuracy'])\n",
    "\n",
    "history = model_relu.fit(X_train, Y_train, batch_size=batch_size, epochs=nb_epoch, verbose=1, validation_data=(X_test, Y_test))"
   ]
  },
  {
   "cell_type": "code",
   "execution_count": 28,
   "metadata": {
    "colab": {},
    "colab_type": "code",
    "id": "niCdh2TUQKce",
    "outputId": "9620cc68-260a-4f70-e2a2-2296d55cade6"
   },
   "outputs": [
    {
     "name": "stdout",
     "output_type": "stream",
     "text": [
      "Test score: 0.09729973193291398\n",
      "Test accuracy: 0.9823\n"
     ]
    },
    {
     "data": {
      "image/png": "[encoded data removed]",
      "text/plain": [
       "<Figure size 432x288 with 1 Axes>"
      ]
     },
     "metadata": {
      "needs_background": "light"
     },
     "output_type": "display_data"
    }
   ],
   "source": [
    "score = model_relu.evaluate(X_test, Y_test, verbose=0) \n",
    "print('Test score:', score[0]) \n",
    "print('Test accuracy:', score[1])\n",
    "\n",
    "fig,ax = plt.subplots(1,1)\n",
    "ax.set_xlabel('epoch') ; ax.set_ylabel('Categorical Crossentropy Loss')\n",
    "\n",
    "# list of epoch numbers\n",
    "x = list(range(1,nb_epoch+1))\n",
    "\n",
    "# print(history.history.keys())\n",
    "# dict_keys(['val_loss', 'val_acc', 'loss', 'acc'])\n",
    "# history = model_drop.fit(X_train, Y_train, batch_size=batch_size, epochs=nb_epoch, verbose=1, validation_data=(X_test, Y_test))\n",
    "\n",
    "# we will get val_loss and val_acc only when you pass the paramter validation_data\n",
    "# val_loss : validation loss\n",
    "# val_acc : validation accuracy\n",
    "\n",
    "# loss : training loss\n",
    "# acc : train accuracy\n",
    "# for each key in histrory.histrory we will have a list of length equal to number of epochs\n",
    "\n",
    "\n",
    "vy = history.history['val_loss']\n",
    "ty = history.history['loss']\n",
    "plt_dynamic(x, vy, ty, ax)"
   ]
  },
  {
   "cell_type": "code",
   "execution_count": 29,
   "metadata": {
    "colab": {},
    "colab_type": "code",
    "id": "PDtptoSnQKcf",
    "outputId": "4fd88cc4-6452-4f28-970f-bd7a0c5fe462"
   },
   "outputs": [
    {
     "data": {
      "image/png": "[encoded data removed]",
      "text/plain": [
       "<Figure size 432x288 with 3 Axes>"
      ]
     },
     "metadata": {
      "needs_background": "light"
     },
     "output_type": "display_data"
    }
   ],
   "source": [
    "w_after = model_relu.get_weights()\n",
    "\n",
    "h1_w = w_after[0].flatten().reshape(-1,1)\n",
    "h2_w = w_after[2].flatten().reshape(-1,1)\n",
    "out_w = w_after[4].flatten().reshape(-1,1)\n",
    "\n",
    "\n",
    "fig = plt.figure()\n",
    "plt.title(\"Weight matrices after model trained\")\n",
    "plt.subplot(1, 3, 1)\n",
    "plt.title(\"Trained model Weights\")\n",
    "ax = sns.violinplot(y=h1_w,color='b')\n",
    "plt.xlabel('Hidden Layer 1')\n",
    "\n",
    "plt.subplot(1, 3, 2)\n",
    "plt.title(\"Trained model Weights\")\n",
    "ax = sns.violinplot(y=h2_w, color='r')\n",
    "plt.xlabel('Hidden Layer 2 ')\n",
    "\n",
    "plt.subplot(1, 3, 3)\n",
    "plt.title(\"Trained model Weights\")\n",
    "ax = sns.violinplot(y=out_w,color='y')\n",
    "plt.xlabel('Output Layer ')\n",
    "plt.show()"
   ]
  },
  {
   "cell_type": "markdown",
   "metadata": {
    "colab_type": "text",
    "id": "TjduBU7hQKch"
   },
   "source": [
    "<h2> MLP + Batch-Norm on hidden Layers + AdamOptimizer </2>"
   ]
  },
  {
   "cell_type": "code",
   "execution_count": 30,
   "metadata": {
    "colab": {},
    "colab_type": "code",
    "id": "KGHnPnoTQKci",
    "outputId": "8abd1dfb-b838-47f8-9e9b-0a4a757bfd8a"
   },
   "outputs": [
    {
     "name": "stdout",
     "output_type": "stream",
     "text": [
      "_________________________________________________________________\n",
      "Layer (type)                 Output Shape              Param #   \n",
      "=================================================================\n",
      "dense_14 (Dense)             (None, 512)               401920    \n",
      "_________________________________________________________________\n",
      "batch_normalization_1 (Batch (None, 512)               2048      \n",
      "_________________________________________________________________\n",
      "dense_15 (Dense)             (None, 128)               65664     \n",
      "_________________________________________________________________\n",
      "batch_normalization_2 (Batch (None, 128)               512       \n",
      "_________________________________________________________________\n",
      "dense_16 (Dense)             (None, 10)                1290      \n",
      "=================================================================\n",
      "Total params: 471,434\n",
      "Trainable params: 470,154\n",
      "Non-trainable params: 1,280\n",
      "_________________________________________________________________\n"
     ]
    }
   ],
   "source": [
    "# Multilayer perceptron\n",
    "\n",
    "# https://intoli.com/blog/neural-network-initialization/ \n",
    "# If we sample weights from a normal distribution N(0,σ) we satisfy this condition with σ=√(2/(ni+ni+1). \n",
    "# h1 =>  σ=√(2/(ni+ni+1) = 0.039  => N(0,σ) = N(0,0.039)\n",
    "# h2 =>  σ=√(2/(ni+ni+1) = 0.055  => N(0,σ) = N(0,0.055)\n",
    "# h1 =>  σ=√(2/(ni+ni+1) = 0.120  => N(0,σ) = N(0,0.120)\n",
    "\n",
    "from keras.layers.normalization import BatchNormalization\n",
    "\n",
    "model_batch = Sequential()\n",
    "\n",
    "model_batch.add(Dense(512, activation='sigmoid', input_shape=(input_dim,), kernel_initializer=RandomNormal(mean=0.0, stddev=0.039, seed=None)))\n",
    "model_batch.add(BatchNormalization())\n",
    "\n",
    "model_batch.add(Dense(128, activation='sigmoid', kernel_initializer=RandomNormal(mean=0.0, stddev=0.55, seed=None)) )\n",
    "model_batch.add(BatchNormalization())\n",
    "\n",
    "model_batch.add(Dense(output_dim, activation='softmax'))\n",
    "\n",
    "\n",
    "model_batch.summary()"
   ]
  },
  {
   "cell_type": "code",
   "execution_count": 31,
   "metadata": {
    "colab": {},
    "colab_type": "code",
    "id": "yMPo5fcUQKcm",
    "outputId": "345fa9de-3920-49c3-b03e-2ba99ddfb7c7"
   },
   "outputs": [
    {
     "name": "stdout",
     "output_type": "stream",
     "text": [
      "Train on 60000 samples, validate on 10000 samples\n",
      "Epoch 1/20\n",
      "60000/60000 [==============================] - 11s 182us/step - loss: 0.3065 - acc: 0.9100 - val_loss: 0.2213 - val_acc: 0.9315\n",
      "Epoch 2/20\n",
      "60000/60000 [==============================] - 9s 148us/step - loss: 0.1759 - acc: 0.9480 - val_loss: 0.1730 - val_acc: 0.9474\n",
      "Epoch 3/20\n",
      "60000/60000 [==============================] - 9s 149us/step - loss: 0.1396 - acc: 0.9587 - val_loss: 0.1531 - val_acc: 0.9537\n",
      "Epoch 4/20\n",
      "60000/60000 [==============================] - 9s 150us/step - loss: 0.1158 - acc: 0.9658 - val_loss: 0.1322 - val_acc: 0.9612\n",
      "Epoch 5/20\n",
      "60000/60000 [==============================] - 9s 151us/step - loss: 0.0984 - acc: 0.9704 - val_loss: 0.1309 - val_acc: 0.9610\n",
      "Epoch 6/20\n",
      "60000/60000 [==============================] - 9s 154us/step - loss: 0.0822 - acc: 0.9754 - val_loss: 0.1174 - val_acc: 0.9651\n",
      "Epoch 7/20\n",
      "60000/60000 [==============================] - 9s 153us/step - loss: 0.0709 - acc: 0.9778 - val_loss: 0.1040 - val_acc: 0.9688\n",
      "Epoch 8/20\n",
      "60000/60000 [==============================] - 9s 155us/step - loss: 0.0598 - acc: 0.9816 - val_loss: 0.1102 - val_acc: 0.9660\n",
      "Epoch 9/20\n",
      "60000/60000 [==============================] - 9s 156us/step - loss: 0.0536 - acc: 0.9830 - val_loss: 0.1024 - val_acc: 0.9697\n",
      "Epoch 10/20\n",
      "60000/60000 [==============================] - 10s 163us/step - loss: 0.0450 - acc: 0.9863 - val_loss: 0.0988 - val_acc: 0.9707\n",
      "Epoch 11/20\n",
      "60000/60000 [==============================] - 10s 167us/step - loss: 0.0390 - acc: 0.9878 - val_loss: 0.0995 - val_acc: 0.9699\n",
      "Epoch 12/20\n",
      "60000/60000 [==============================] - 11s 177us/step - loss: 0.0338 - acc: 0.9894 - val_loss: 0.1083 - val_acc: 0.9709\n",
      "Epoch 13/20\n",
      "60000/60000 [==============================] - 10s 172us/step - loss: 0.0295 - acc: 0.9905 - val_loss: 0.1014 - val_acc: 0.9707\n",
      "Epoch 14/20\n",
      "60000/60000 [==============================] - 11s 185us/step - loss: 0.0282 - acc: 0.9910 - val_loss: 0.0984 - val_acc: 0.9737\n",
      "Epoch 15/20\n",
      "60000/60000 [==============================] - 16s 261us/step - loss: 0.0244 - acc: 0.9917 - val_loss: 0.1034 - val_acc: 0.9720\n",
      "Epoch 16/20\n",
      "60000/60000 [==============================] - 15s 249us/step - loss: 0.0212 - acc: 0.9935 - val_loss: 0.1089 - val_acc: 0.9719\n",
      "Epoch 17/20\n",
      "60000/60000 [==============================] - 14s 237us/step - loss: 0.0208 - acc: 0.9930 - val_loss: 0.1005 - val_acc: 0.9728\n",
      "Epoch 18/20\n",
      "60000/60000 [==============================] - 15s 243us/step - loss: 0.0201 - acc: 0.9936 - val_loss: 0.1037 - val_acc: 0.9735\n",
      "Epoch 19/20\n",
      "60000/60000 [==============================] - 14s 241us/step - loss: 0.0182 - acc: 0.9937 - val_loss: 0.1164 - val_acc: 0.9728\n",
      "Epoch 20/20\n",
      "60000/60000 [==============================] - 20s 326us/step - loss: 0.0162 - acc: 0.9946 - val_loss: 0.1019 - val_acc: 0.9744\n"
     ]
    }
   ],
   "source": [
    "model_batch.compile(optimizer='adam', loss='categorical_crossentropy', metrics=['accuracy'])\n",
    "\n",
    "history = model_batch.fit(X_train, Y_train, batch_size=batch_size, epochs=nb_epoch, verbose=1, validation_data=(X_test, Y_test))"
   ]
  },
  {
   "cell_type": "code",
   "execution_count": 32,
   "metadata": {
    "colab": {},
    "colab_type": "code",
    "id": "HThyBcHUQKcn",
    "outputId": "3da2f50e-c25f-4903-da11-d294ec1a63b8"
   },
   "outputs": [
    {
     "name": "stdout",
     "output_type": "stream",
     "text": [
      "Test score: 0.10187604286946007\n",
      "Test accuracy: 0.9744\n"
     ]
    },
    {
     "data": {
      "image/png": "[encoded data removed]",
      "text/plain": [
       "<Figure size 432x288 with 1 Axes>"
      ]
     },
     "metadata": {
      "needs_background": "light"
     },
     "output_type": "display_data"
    }
   ],
   "source": [
    "score = model_batch.evaluate(X_test, Y_test, verbose=0) \n",
    "print('Test score:', score[0]) \n",
    "print('Test accuracy:', score[1])\n",
    "\n",
    "fig,ax = plt.subplots(1,1)\n",
    "ax.set_xlabel('epoch') ; ax.set_ylabel('Categorical Crossentropy Loss')\n",
    "\n",
    "# list of epoch numbers\n",
    "x = list(range(1,nb_epoch+1))\n",
    "\n",
    "# print(history.history.keys())\n",
    "# dict_keys(['val_loss', 'val_acc', 'loss', 'acc'])\n",
    "# history = model_drop.fit(X_train, Y_train, batch_size=batch_size, epochs=nb_epoch, verbose=1, validation_data=(X_test, Y_test))\n",
    "\n",
    "# we will get val_loss and val_acc only when you pass the paramter validation_data\n",
    "# val_loss : validation loss\n",
    "# val_acc : validation accuracy\n",
    "\n",
    "# loss : training loss\n",
    "# acc : train accuracy\n",
    "# for each key in histrory.histrory we will have a list of length equal to number of epochs\n",
    "\n",
    "vy = history.history['val_loss']\n",
    "ty = history.history['loss']\n",
    "plt_dynamic(x, vy, ty, ax)"
   ]
  },
  {
   "cell_type": "code",
   "execution_count": 33,
   "metadata": {
    "colab": {},
    "colab_type": "code",
    "id": "Ilj0es2yQKcp",
    "outputId": "55ee6f5e-c253-4cf2-fe1e-4d9be82e1c88"
   },
   "outputs": [
    {
     "data": {
      "image/png": "[encoded data removed]",
      "text/plain": [
       "<Figure size 432x288 with 3 Axes>"
      ]
     },
     "metadata": {
      "needs_background": "light"
     },
     "output_type": "display_data"
    }
   ],
   "source": [
    "w_after = model_batch.get_weights()\n",
    "\n",
    "h1_w = w_after[0].flatten().reshape(-1,1)\n",
    "h2_w = w_after[2].flatten().reshape(-1,1)\n",
    "out_w = w_after[4].flatten().reshape(-1,1)\n",
    "\n",
    "\n",
    "fig = plt.figure()\n",
    "plt.title(\"Weight matrices after model trained\")\n",
    "plt.subplot(1, 3, 1)\n",
    "plt.title(\"Trained model Weights\")\n",
    "ax = sns.violinplot(y=h1_w,color='b')\n",
    "plt.xlabel('Hidden Layer 1')\n",
    "\n",
    "plt.subplot(1, 3, 2)\n",
    "plt.title(\"Trained model Weights\")\n",
    "ax = sns.violinplot(y=h2_w, color='r')\n",
    "plt.xlabel('Hidden Layer 2 ')\n",
    "\n",
    "plt.subplot(1, 3, 3)\n",
    "plt.title(\"Trained model Weights\")\n",
    "ax = sns.violinplot(y=out_w,color='y')\n",
    "plt.xlabel('Output Layer ')\n",
    "plt.show()"
   ]
  },
  {
   "cell_type": "markdown",
   "metadata": {
    "colab_type": "text",
    "id": "IWYP8-3pQKct"
   },
   "source": [
    "<h2> 5. MLP + Dropout + AdamOptimizer </h2>"
   ]
  },
  {
   "cell_type": "code",
   "execution_count": 34,
   "metadata": {
    "colab": {},
    "colab_type": "code",
    "id": "DJj0hu0-QKct",
    "outputId": "674bedfc-e833-4fb7-f0d6-908fb9906c36"
   },
   "outputs": [
    {
     "name": "stdout",
     "output_type": "stream",
     "text": [
      "WARNING:tensorflow:From /home/mani/anaconda3/lib/python3.7/site-packages/keras/backend/tensorflow_backend.py:3445: calling dropout (from tensorflow.python.ops.nn_ops) with keep_prob is deprecated and will be removed in a future version.\n",
      "Instructions for updating:\n",
      "Please use `rate` instead of `keep_prob`. Rate should be set to `rate = 1 - keep_prob`.\n",
      "_________________________________________________________________\n",
      "Layer (type)                 Output Shape              Param #   \n",
      "=================================================================\n",
      "dense_17 (Dense)             (None, 512)               401920    \n",
      "_________________________________________________________________\n",
      "batch_normalization_3 (Batch (None, 512)               2048      \n",
      "_________________________________________________________________\n",
      "dropout_1 (Dropout)          (None, 512)               0         \n",
      "_________________________________________________________________\n",
      "dense_18 (Dense)             (None, 128)               65664     \n",
      "_________________________________________________________________\n",
      "batch_normalization_4 (Batch (None, 128)               512       \n",
      "_________________________________________________________________\n",
      "dropout_2 (Dropout)          (None, 128)               0         \n",
      "_________________________________________________________________\n",
      "dense_19 (Dense)             (None, 10)                1290      \n",
      "=================================================================\n",
      "Total params: 471,434\n",
      "Trainable params: 470,154\n",
      "Non-trainable params: 1,280\n",
      "_________________________________________________________________\n"
     ]
    }
   ],
   "source": [
    "# https://stackoverflow.com/questions/34716454/where-do-i-call-the-batchnormalization-function-in-keras\n",
    "\n",
    "from keras.layers import Dropout\n",
    "\n",
    "model_drop = Sequential()\n",
    "\n",
    "model_drop.add(Dense(512, activation='sigmoid', input_shape=(input_dim,), kernel_initializer=RandomNormal(mean=0.0, stddev=0.039, seed=None)))\n",
    "model_drop.add(BatchNormalization())\n",
    "model_drop.add(Dropout(0.5))\n",
    "\n",
    "model_drop.add(Dense(128, activation='sigmoid', kernel_initializer=RandomNormal(mean=0.0, stddev=0.55, seed=None)) )\n",
    "model_drop.add(BatchNormalization())\n",
    "model_drop.add(Dropout(0.5))\n",
    "\n",
    "model_drop.add(Dense(output_dim, activation='softmax'))\n",
    "\n",
    "\n",
    "model_drop.summary()"
   ]
  },
  {
   "cell_type": "code",
   "execution_count": 35,
   "metadata": {
    "colab": {},
    "colab_type": "code",
    "id": "J5pc4W_9QKcw",
    "outputId": "fc6c250a-49f9-46d7-de24-ae1977ea2ccc"
   },
   "outputs": [
    {
     "name": "stdout",
     "output_type": "stream",
     "text": [
      "Train on 60000 samples, validate on 10000 samples\n",
      "Epoch 1/20\n",
      "60000/60000 [==============================] - 25s 419us/step - loss: 0.6694 - acc: 0.7922 - val_loss: 0.2903 - val_acc: 0.9165\n",
      "Epoch 2/20\n",
      "60000/60000 [==============================] - 22s 363us/step - loss: 0.4296 - acc: 0.8686 - val_loss: 0.2540 - val_acc: 0.9238\n",
      "Epoch 3/20\n",
      "60000/60000 [==============================] - 22s 374us/step - loss: 0.3806 - acc: 0.8833 - val_loss: 0.2347 - val_acc: 0.9296\n",
      "Epoch 4/20\n",
      "60000/60000 [==============================] - 23s 376us/step - loss: 0.3580 - acc: 0.8923 - val_loss: 0.2231 - val_acc: 0.9325\n",
      "Epoch 5/20\n",
      "60000/60000 [==============================] - 26s 427us/step - loss: 0.3393 - acc: 0.8971 - val_loss: 0.2138 - val_acc: 0.9378\n",
      "Epoch 6/20\n",
      "60000/60000 [==============================] - 24s 395us/step - loss: 0.3231 - acc: 0.9035 - val_loss: 0.2043 - val_acc: 0.9399\n",
      "Epoch 7/20\n",
      "60000/60000 [==============================] - 24s 402us/step - loss: 0.3093 - acc: 0.9068 - val_loss: 0.1954 - val_acc: 0.9418\n",
      "Epoch 8/20\n",
      "60000/60000 [==============================] - 25s 423us/step - loss: 0.2962 - acc: 0.9117 - val_loss: 0.1877 - val_acc: 0.9434\n",
      "Epoch 9/20\n",
      "60000/60000 [==============================] - 25s 413us/step - loss: 0.2837 - acc: 0.9144 - val_loss: 0.1766 - val_acc: 0.9474\n",
      "Epoch 10/20\n",
      "60000/60000 [==============================] - 27s 455us/step - loss: 0.2690 - acc: 0.9193 - val_loss: 0.1715 - val_acc: 0.9495\n",
      "Epoch 11/20\n",
      "60000/60000 [==============================] - 26s 438us/step - loss: 0.2602 - acc: 0.9217 - val_loss: 0.1630 - val_acc: 0.9520\n",
      "Epoch 12/20\n",
      "60000/60000 [==============================] - 29s 479us/step - loss: 0.2476 - acc: 0.9250 - val_loss: 0.1535 - val_acc: 0.9548\n",
      "Epoch 13/20\n",
      "60000/60000 [==============================] - 29s 478us/step - loss: 0.2354 - acc: 0.9287 - val_loss: 0.1487 - val_acc: 0.9560\n",
      "Epoch 14/20\n",
      "60000/60000 [==============================] - 28s 464us/step - loss: 0.2277 - acc: 0.9318 - val_loss: 0.1439 - val_acc: 0.9579\n",
      "Epoch 15/20\n",
      "60000/60000 [==============================] - 28s 471us/step - loss: 0.2168 - acc: 0.9349 - val_loss: 0.1357 - val_acc: 0.9584\n",
      "Epoch 16/20\n",
      "60000/60000 [==============================] - 27s 445us/step - loss: 0.2079 - acc: 0.9377 - val_loss: 0.1297 - val_acc: 0.9623\n",
      "Epoch 17/20\n",
      "60000/60000 [==============================] - 16s 273us/step - loss: 0.1996 - acc: 0.9405 - val_loss: 0.1240 - val_acc: 0.9638\n",
      "Epoch 18/20\n",
      "60000/60000 [==============================] - 21s 350us/step - loss: 0.1894 - acc: 0.9431 - val_loss: 0.1240 - val_acc: 0.9630\n",
      "Epoch 19/20\n",
      "60000/60000 [==============================] - 24s 404us/step - loss: 0.1842 - acc: 0.9450 - val_loss: 0.1180 - val_acc: 0.9655\n",
      "Epoch 20/20\n",
      "60000/60000 [==============================] - 16s 262us/step - loss: 0.1776 - acc: 0.9470 - val_loss: 0.1127 - val_acc: 0.9672\n"
     ]
    }
   ],
   "source": [
    "model_drop.compile(optimizer='adam', loss='categorical_crossentropy', metrics=['accuracy'])\n",
    "\n",
    "history = model_drop.fit(X_train, Y_train, batch_size=batch_size, epochs=nb_epoch, verbose=1, validation_data=(X_test, Y_test))"
   ]
  },
  {
   "cell_type": "code",
   "execution_count": 36,
   "metadata": {
    "colab": {},
    "colab_type": "code",
    "id": "i5WcfQRFQKc0",
    "outputId": "67d7cea2-34bc-41f4-a62e-53710bd6100b"
   },
   "outputs": [
    {
     "name": "stdout",
     "output_type": "stream",
     "text": [
      "Test score: 0.1126671709664166\n",
      "Test accuracy: 0.9672\n"
     ]
    },
    {
     "data": {
      "image/png": "[encoded data removed]",
      "text/plain": [
       "<Figure size 432x288 with 1 Axes>"
      ]
     },
     "metadata": {
      "needs_background": "light"
     },
     "output_type": "display_data"
    }
   ],
   "source": [
    "score = model_drop.evaluate(X_test, Y_test, verbose=0) \n",
    "print('Test score:', score[0]) \n",
    "print('Test accuracy:', score[1])\n",
    "\n",
    "fig,ax = plt.subplots(1,1)\n",
    "ax.set_xlabel('epoch') ; ax.set_ylabel('Categorical Crossentropy Loss')\n",
    "\n",
    "# list of epoch numbers\n",
    "x = list(range(1,nb_epoch+1))\n",
    "\n",
    "# print(history.history.keys())\n",
    "# dict_keys(['val_loss', 'val_acc', 'loss', 'acc'])\n",
    "# history = model_drop.fit(X_train, Y_train, batch_size=batch_size, epochs=nb_epoch, verbose=1, validation_data=(X_test, Y_test))\n",
    "\n",
    "# we will get val_loss and val_acc only when you pass the paramter validation_data\n",
    "# val_loss : validation loss\n",
    "# val_acc : validation accuracy\n",
    "\n",
    "# loss : training loss\n",
    "# acc : train accuracy\n",
    "# for each key in histrory.histrory we will have a list of length equal to number of epochs\n",
    "\n",
    "vy = history.history['val_loss']\n",
    "ty = history.history['loss']\n",
    "plt_dynamic(x, vy, ty, ax)"
   ]
  },
  {
   "cell_type": "code",
   "execution_count": 37,
   "metadata": {
    "colab": {},
    "colab_type": "code",
    "id": "U2N2u7xoQKc2",
    "outputId": "fb67995c-2b23-4967-c398-3a621d1b63f4"
   },
   "outputs": [
    {
     "data": {
      "image/png": "[encoded data removed]",
      "text/plain": [
       "<Figure size 432x288 with 3 Axes>"
      ]
     },
     "metadata": {
      "needs_background": "light"
     },
     "output_type": "display_data"
    }
   ],
   "source": [
    "w_after = model_drop.get_weights()\n",
    "\n",
    "h1_w = w_after[0].flatten().reshape(-1,1)\n",
    "h2_w = w_after[2].flatten().reshape(-1,1)\n",
    "out_w = w_after[4].flatten().reshape(-1,1)\n",
    "\n",
    "\n",
    "fig = plt.figure()\n",
    "plt.title(\"Weight matrices after model trained\")\n",
    "plt.subplot(1, 3, 1)\n",
    "plt.title(\"Trained model Weights\")\n",
    "ax = sns.violinplot(y=h1_w,color='b')\n",
    "plt.xlabel('Hidden Layer 1')\n",
    "\n",
    "plt.subplot(1, 3, 2)\n",
    "plt.title(\"Trained model Weights\")\n",
    "ax = sns.violinplot(y=h2_w, color='r')\n",
    "plt.xlabel('Hidden Layer 2 ')\n",
    "\n",
    "plt.subplot(1, 3, 3)\n",
    "plt.title(\"Trained model Weights\")\n",
    "ax = sns.violinplot(y=out_w,color='y')\n",
    "plt.xlabel('Output Layer ')\n",
    "plt.show()"
   ]
  },
  {
   "cell_type": "markdown",
   "metadata": {
    "colab_type": "text",
    "id": "ayBTjaZGQKc6"
   },
   "source": [
    "<h2> Hyper-parameter tuning of Keras models using Sklearn </h2>"
   ]
  },
  {
   "cell_type": "code",
   "execution_count": 38,
   "metadata": {
    "colab": {},
    "colab_type": "code",
    "id": "8k1L9fZcQKc6"
   },
   "outputs": [],
   "source": [
    "from keras.optimizers import Adam,RMSprop,SGD\n",
    "def best_hyperparameters(activ):\n",
    "\n",
    "    model = Sequential()\n",
    "    model.add(Dense(512, activation=activ, input_shape=(input_dim,), kernel_initializer=RandomNormal(mean=0.0, stddev=0.062, seed=None)))\n",
    "    model.add(Dense(128, activation=activ, kernel_initializer=RandomNormal(mean=0.0, stddev=0.125, seed=None)) )\n",
    "    model.add(Dense(output_dim, activation='softmax'))\n",
    "\n",
    "\n",
    "    model.compile(loss='categorical_crossentropy', metrics=['accuracy'], optimizer='adam')\n",
    "    \n",
    "    return model"
   ]
  },
  {
   "cell_type": "code",
   "execution_count": 39,
   "metadata": {
    "colab": {},
    "colab_type": "code",
    "id": "Mj1klnwWQKc7"
   },
   "outputs": [
    {
     "name": "stderr",
     "output_type": "stream",
     "text": [
      "/home/mani/anaconda3/lib/python3.7/site-packages/sklearn/model_selection/_split.py:1978: FutureWarning: The default value of cv will change from 3 to 5 in version 0.22. Specify it explicitly to silence this warning.\n",
      "  warnings.warn(CV_WARNING, FutureWarning)\n",
      "/home/mani/anaconda3/lib/python3.7/site-packages/keras/callbacks.py:122: UserWarning: Method on_batch_end() is slow compared to the batch update (0.529312). Check your callbacks.\n",
      "  % delta_t_median)\n"
     ]
    }
   ],
   "source": [
    "# https://machinelearningmastery.com/grid-search-hyperparameters-deep-learning-models-python-keras/\n",
    "\n",
    "activ = ['sigmoid','relu']\n",
    "\n",
    "from keras.wrappers.scikit_learn import KerasClassifier\n",
    "from sklearn.model_selection import GridSearchCV\n",
    "\n",
    "model = KerasClassifier(build_fn=best_hyperparameters, epochs=nb_epoch, batch_size=batch_size, verbose=0)\n",
    "param_grid = dict(activ=activ)\n",
    "\n",
    "# if you are using CPU\n",
    "# grid = GridSearchCV(estimator=model, param_grid=param_grid, n_jobs=-1)\n",
    "# if you are using GPU dont use the n_jobs parameter\n",
    "\n",
    "grid = GridSearchCV(estimator=model, param_grid=param_grid)\n",
    "grid_result = grid.fit(X_train, Y_train)"
   ]
  },
  {
   "cell_type": "code",
   "execution_count": 40,
   "metadata": {
    "colab": {},
    "colab_type": "code",
    "id": "9UiW9qkmQKc8",
    "outputId": "625e907e-e347-4826-953d-e09c26a2e397"
   },
   "outputs": [
    {
     "name": "stdout",
     "output_type": "stream",
     "text": [
      "Best: 0.976167 using {'activ': 'sigmoid'}\n",
      "0.976167 (0.001543) with: {'activ': 'sigmoid'}\n",
      "0.975917 (0.003704) with: {'activ': 'relu'}\n"
     ]
    }
   ],
   "source": [
    "print(\"Best: %f using %s\" % (grid_result.best_score_, grid_result.best_params_))\n",
    "means = grid_result.cv_results_['mean_test_score']\n",
    "stds = grid_result.cv_results_['std_test_score']\n",
    "params = grid_result.cv_results_['params']\n",
    "for mean, stdev, param in zip(means, stds, params):\n",
    "    print(\"%f (%f) with: %r\" % (mean, stdev, param))"
   ]
  }
 ],
 "metadata": {
  "accelerator": "GPU",
  "colab": {
   "name": "Keras_Mnist.ipynb",
   "provenance": [],
   "version": "0.3.2"
  },
  "kernelspec": {
   "display_name": "Python 3",
   "language": "python",
   "name": "python3"
  },
  "language_info": {
   "codemirror_mode": {
    "name": "ipython",
    "version": 3
   },
   "file_extension": ".py",
   "mimetype": "text/x-python",
   "name": "python",
   "nbconvert_exporter": "python",
   "pygments_lexer": "ipython3",
   "version": "3.7.3"
  }
 },
 "nbformat": 4,
 "nbformat_minor": 2
}
